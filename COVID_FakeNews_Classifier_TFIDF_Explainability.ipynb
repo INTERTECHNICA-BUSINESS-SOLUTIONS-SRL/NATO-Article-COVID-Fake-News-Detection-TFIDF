{
  "cells": [
    {
      "cell_type": "code",
      "source": [
        "# ensure word wrapping fomatting for textual output\n",
        "# inside noteboot\n",
        "from IPython.display import HTML, display\n",
        "\n",
        "def set_css():\n",
        "  display(HTML('''\n",
        "  <style>\n",
        "    pre {\n",
        "        white-space: pre-wrap;\n",
        "    }\n",
        "  </style>\n",
        "  '''))\n",
        "get_ipython().events.register('pre_run_cell', set_css)"
      ],
      "metadata": {
        "id": "oJoxnukMeBta"
      },
      "execution_count": 1,
      "outputs": []
    },
    {
      "cell_type": "code",
      "execution_count": 2,
      "metadata": {
        "colab": {
          "base_uri": "https://localhost:8080/",
          "height": 851
        },
        "id": "T8Hot4C2XAUz",
        "outputId": "6144a500-99ca-495a-8ecf-fb402bf8f5a4"
      },
      "outputs": [
        {
          "output_type": "display_data",
          "data": {
            "text/plain": [
              "<IPython.core.display.HTML object>"
            ],
            "text/html": [
              "\n",
              "  <style>\n",
              "    pre {\n",
              "        white-space: pre-wrap;\n",
              "    }\n",
              "  </style>\n",
              "  "
            ]
          },
          "metadata": {}
        },
        {
          "output_type": "stream",
          "name": "stdout",
          "text": [
            "Looking in indexes: https://pypi.org/simple, https://us-python.pkg.dev/colab-wheels/public/simple/\n",
            "Requirement already satisfied: requests_cache in /usr/local/lib/python3.7/dist-packages (0.9.4)\n",
            "Requirement already satisfied: attrs<22.0,>=21.2 in /usr/local/lib/python3.7/dist-packages (from requests_cache) (21.4.0)\n",
            "Requirement already satisfied: urllib3<2.0.0,>=1.25.5 in /usr/local/lib/python3.7/dist-packages (from requests_cache) (1.25.11)\n",
            "Requirement already satisfied: requests<3.0,>=2.22 in /usr/local/lib/python3.7/dist-packages (from requests_cache) (2.23.0)\n",
            "Requirement already satisfied: appdirs<2.0.0,>=1.4.4 in /usr/local/lib/python3.7/dist-packages (from requests_cache) (1.4.4)\n",
            "Requirement already satisfied: url-normalize<2.0,>=1.4 in /usr/local/lib/python3.7/dist-packages (from requests_cache) (1.4.3)\n",
            "Requirement already satisfied: cattrs<2.0,>=1.8 in /usr/local/lib/python3.7/dist-packages (from requests_cache) (1.10.0)\n",
            "Requirement already satisfied: typing_extensions in /usr/local/lib/python3.7/dist-packages (from cattrs<2.0,>=1.8->requests_cache) (4.2.0)\n",
            "Requirement already satisfied: idna<3,>=2.5 in /usr/local/lib/python3.7/dist-packages (from requests<3.0,>=2.22->requests_cache) (2.10)\n",
            "Requirement already satisfied: certifi>=2017.4.17 in /usr/local/lib/python3.7/dist-packages (from requests<3.0,>=2.22->requests_cache) (2022.5.18.1)\n",
            "Requirement already satisfied: chardet<4,>=3.0.2 in /usr/local/lib/python3.7/dist-packages (from requests<3.0,>=2.22->requests_cache) (3.0.4)\n",
            "Requirement already satisfied: six in /usr/local/lib/python3.7/dist-packages (from url-normalize<2.0,>=1.4->requests_cache) (1.15.0)\n",
            "Looking in indexes: https://pypi.org/simple, https://us-python.pkg.dev/colab-wheels/public/simple/\n",
            "Requirement already satisfied: lime in /usr/local/lib/python3.7/dist-packages (0.2.0.1)\n",
            "Requirement already satisfied: scikit-learn>=0.18 in /usr/local/lib/python3.7/dist-packages (from lime) (1.0.2)\n",
            "Requirement already satisfied: scikit-image>=0.12 in /usr/local/lib/python3.7/dist-packages (from lime) (0.18.3)\n",
            "Requirement already satisfied: scipy in /usr/local/lib/python3.7/dist-packages (from lime) (1.4.1)\n",
            "Requirement already satisfied: numpy in /usr/local/lib/python3.7/dist-packages (from lime) (1.21.6)\n",
            "Requirement already satisfied: tqdm in /usr/local/lib/python3.7/dist-packages (from lime) (4.64.0)\n",
            "Requirement already satisfied: matplotlib in /usr/local/lib/python3.7/dist-packages (from lime) (3.5.2)\n",
            "Requirement already satisfied: imageio>=2.3.0 in /usr/local/lib/python3.7/dist-packages (from scikit-image>=0.12->lime) (2.4.1)\n",
            "Requirement already satisfied: networkx>=2.0 in /usr/local/lib/python3.7/dist-packages (from scikit-image>=0.12->lime) (2.6.3)\n",
            "Requirement already satisfied: PyWavelets>=1.1.1 in /usr/local/lib/python3.7/dist-packages (from scikit-image>=0.12->lime) (1.3.0)\n",
            "Requirement already satisfied: pillow!=7.1.0,!=7.1.1,>=4.3.0 in /usr/local/lib/python3.7/dist-packages (from scikit-image>=0.12->lime) (7.1.2)\n",
            "Requirement already satisfied: tifffile>=2019.7.26 in /usr/local/lib/python3.7/dist-packages (from scikit-image>=0.12->lime) (2021.11.2)\n",
            "Requirement already satisfied: python-dateutil>=2.7 in /usr/local/lib/python3.7/dist-packages (from matplotlib->lime) (2.8.2)\n",
            "Requirement already satisfied: pyparsing>=2.2.1 in /usr/local/lib/python3.7/dist-packages (from matplotlib->lime) (3.0.9)\n",
            "Requirement already satisfied: fonttools>=4.22.0 in /usr/local/lib/python3.7/dist-packages (from matplotlib->lime) (4.33.3)\n",
            "Requirement already satisfied: packaging>=20.0 in /usr/local/lib/python3.7/dist-packages (from matplotlib->lime) (21.3)\n",
            "Requirement already satisfied: cycler>=0.10 in /usr/local/lib/python3.7/dist-packages (from matplotlib->lime) (0.11.0)\n",
            "Requirement already satisfied: kiwisolver>=1.0.1 in /usr/local/lib/python3.7/dist-packages (from matplotlib->lime) (1.4.2)\n",
            "Requirement already satisfied: typing-extensions in /usr/local/lib/python3.7/dist-packages (from kiwisolver>=1.0.1->matplotlib->lime) (4.2.0)\n",
            "Requirement already satisfied: six>=1.5 in /usr/local/lib/python3.7/dist-packages (from python-dateutil>=2.7->matplotlib->lime) (1.15.0)\n",
            "Requirement already satisfied: threadpoolctl>=2.0.0 in /usr/local/lib/python3.7/dist-packages (from scikit-learn>=0.18->lime) (3.1.0)\n",
            "Requirement already satisfied: joblib>=0.11 in /usr/local/lib/python3.7/dist-packages (from scikit-learn>=0.18->lime) (1.1.0)\n",
            "Looking in indexes: https://pypi.org/simple, https://us-python.pkg.dev/colab-wheels/public/simple/\n",
            "Requirement already satisfied: matplotlib in /usr/local/lib/python3.7/dist-packages (3.5.2)\n",
            "Requirement already satisfied: pillow>=6.2.0 in /usr/local/lib/python3.7/dist-packages (from matplotlib) (7.1.2)\n",
            "Requirement already satisfied: fonttools>=4.22.0 in /usr/local/lib/python3.7/dist-packages (from matplotlib) (4.33.3)\n",
            "Requirement already satisfied: pyparsing>=2.2.1 in /usr/local/lib/python3.7/dist-packages (from matplotlib) (3.0.9)\n",
            "Requirement already satisfied: packaging>=20.0 in /usr/local/lib/python3.7/dist-packages (from matplotlib) (21.3)\n",
            "Requirement already satisfied: python-dateutil>=2.7 in /usr/local/lib/python3.7/dist-packages (from matplotlib) (2.8.2)\n",
            "Requirement already satisfied: kiwisolver>=1.0.1 in /usr/local/lib/python3.7/dist-packages (from matplotlib) (1.4.2)\n",
            "Requirement already satisfied: cycler>=0.10 in /usr/local/lib/python3.7/dist-packages (from matplotlib) (0.11.0)\n",
            "Requirement already satisfied: numpy>=1.17 in /usr/local/lib/python3.7/dist-packages (from matplotlib) (1.21.6)\n",
            "Requirement already satisfied: typing-extensions in /usr/local/lib/python3.7/dist-packages (from kiwisolver>=1.0.1->matplotlib) (4.2.0)\n",
            "Requirement already satisfied: six>=1.5 in /usr/local/lib/python3.7/dist-packages (from python-dateutil>=2.7->matplotlib) (1.15.0)\n"
          ]
        }
      ],
      "source": [
        "# install necessary packages\n",
        "!pip install requests_cache\n",
        "!pip install lime\n",
        "!pip install -U matplotlib"
      ]
    },
    {
      "cell_type": "code",
      "execution_count": 3,
      "metadata": {
        "id": "56P_0PHrRWeq",
        "colab": {
          "base_uri": "https://localhost:8080/",
          "height": 17
        },
        "outputId": "93596e9d-a8ac-494c-cec0-46d6eb137c90"
      },
      "outputs": [
        {
          "output_type": "display_data",
          "data": {
            "text/plain": [
              "<IPython.core.display.HTML object>"
            ],
            "text/html": [
              "\n",
              "  <style>\n",
              "    pre {\n",
              "        white-space: pre-wrap;\n",
              "    }\n",
              "  </style>\n",
              "  "
            ]
          },
          "metadata": {}
        }
      ],
      "source": [
        "# import standard libraries\n",
        "import io\n",
        "import zipfile\n",
        "import requests as rq\n",
        "import requests_cache as rqc\n",
        "import numpy as np\n",
        "import pandas as pd\n",
        "\n",
        "# import text processing tools\n",
        "import spacy\n",
        "from nltk.stem import SnowballStemmer\n",
        "import re\n",
        "\n",
        "# import persistence support\n",
        "from joblib import dump, load\n",
        "\n",
        "# import support for sklearn transformers \n",
        "# and pipelines\n",
        "from sklearn.base import BaseEstimator, TransformerMixin\n",
        "from sklearn.pipeline import Pipeline, make_pipeline\n",
        "\n",
        "# import visualization tools\n",
        "import matplotlib as mplt\n",
        "import matplotlib.pyplot as plt\n",
        "import seaborn as sns\n",
        "from seaborn.palettes import color_palette\n",
        "\n",
        "# import lime text explainer\n",
        "from lime.lime_text import LimeTextExplainer\n",
        "\n",
        "# IPython support\n",
        "from IPython.display import display, HTML"
      ]
    },
    {
      "cell_type": "code",
      "source": [
        "# enforce at least version 3.5.2 of the matplotlib\n",
        "if (mplt.__version__ < '3.5.2'):\n",
        "  print(\"Invalid version of matplotlib detected (at least 3.5.2 required). \\n\")\n",
        "  print(\"**** RUNTIME HAS BEEN FORCEFULLY STOPPED **** \\n\")\n",
        "  raise Exception(\"PLEASE RESTART THE RUNTIME\")"
      ],
      "metadata": {
        "colab": {
          "base_uri": "https://localhost:8080/",
          "height": 17
        },
        "id": "BVXWsfIAyB2q",
        "outputId": "b2cf03d3-ca7d-43f3-b7dc-7e8c1b9d404b"
      },
      "execution_count": 4,
      "outputs": [
        {
          "output_type": "display_data",
          "data": {
            "text/plain": [
              "<IPython.core.display.HTML object>"
            ],
            "text/html": [
              "\n",
              "  <style>\n",
              "    pre {\n",
              "        white-space: pre-wrap;\n",
              "    }\n",
              "  </style>\n",
              "  "
            ]
          },
          "metadata": {}
        }
      ]
    },
    {
      "cell_type": "code",
      "execution_count": 5,
      "metadata": {
        "id": "Wr4g9gNYOhxn",
        "colab": {
          "base_uri": "https://localhost:8080/",
          "height": 17
        },
        "outputId": "f8652345-ee44-4cec-e9eb-7deae41c0f1c"
      },
      "outputs": [
        {
          "output_type": "display_data",
          "data": {
            "text/plain": [
              "<IPython.core.display.HTML object>"
            ],
            "text/html": [
              "\n",
              "  <style>\n",
              "    pre {\n",
              "        white-space: pre-wrap;\n",
              "    }\n",
              "  </style>\n",
              "  "
            ]
          },
          "metadata": {}
        }
      ],
      "source": [
        "# ensure reproducible results\n",
        "rand_state = 1234"
      ]
    },
    {
      "cell_type": "markdown",
      "metadata": {
        "id": "oWF-jHmzNQ5j"
      },
      "source": [
        "# Load Previously Trained Classifiers"
      ]
    },
    {
      "cell_type": "markdown",
      "metadata": {
        "id": "yuScBJe0ar5Q"
      },
      "source": [
        "We will preload the previously trained classifiers in order to ensure explainability information."
      ]
    },
    {
      "cell_type": "markdown",
      "metadata": {
        "id": "B5YtF_qhbGyx"
      },
      "source": [
        "First of all we wil re-define the tokenization transformer to be used in the preloaded classifiers."
      ]
    },
    {
      "cell_type": "code",
      "execution_count": 6,
      "metadata": {
        "id": "luBOqM85PW-5",
        "colab": {
          "base_uri": "https://localhost:8080/",
          "height": 17
        },
        "outputId": "3fd0350e-5d4b-49b3-c128-b5d45b96d87a"
      },
      "outputs": [
        {
          "output_type": "display_data",
          "data": {
            "text/plain": [
              "<IPython.core.display.HTML object>"
            ],
            "text/html": [
              "\n",
              "  <style>\n",
              "    pre {\n",
              "        white-space: pre-wrap;\n",
              "    }\n",
              "  </style>\n",
              "  "
            ]
          },
          "metadata": {}
        }
      ],
      "source": [
        "class TokenizationTransformer (BaseEstimator, TransformerMixin) :\n",
        "  \"\"\"\n",
        "  Transformer that ensures processing of input text, mostly:\n",
        "\n",
        "  * Tokenization and stemming of input text\n",
        "  * Removal of superfluous information such as punctuation\n",
        "    or stop words \n",
        "  \"\"\"\n",
        "\n",
        "  def __init__(self, nlp_support, custom_stop_words_tokens) :\n",
        "    \"\"\"\n",
        "    Parameters\n",
        "    ----------\n",
        "      nlp_support : Object\n",
        "          NLP support (usually based on Spacy)\n",
        "      custom_stop_words_tokens : [str]\n",
        "          A collection of custom tokens\n",
        "    \"\"\"\n",
        "    super().__init__()\n",
        "    self.nlp_support = nlp_support;\n",
        "    self.covid_19_regexp = r\"-19\";    \n",
        "    self.covid_regexp = r\"covid\";\n",
        "    self.number_regexp = r\"[0-9]+\";\n",
        "    self.stemmer = SnowballStemmer(\"english\");\n",
        "    self.custom_stop_words_tokens = custom_stop_words_tokens;\n",
        "\n",
        "\n",
        "  def is_valid(self, token) :\n",
        "    \"\"\"\n",
        "    Checks if a token is valid\n",
        "    Parameters\n",
        "    ----------\n",
        "      token : str\n",
        "          The token checked for validity\n",
        "\n",
        "    Returns\n",
        "    -------\n",
        "    bool\n",
        "        TRUE if the token is valid, otherwise FALSE          \n",
        "    \"\"\"\n",
        "    # remove tokens based on their syntatic information \n",
        "    is_invalid = token.is_stop or \\\n",
        "      token.is_punct or \\\n",
        "      token.is_left_punct or \\\n",
        "      token.is_right_punct or \\\n",
        "      token.is_space or \\\n",
        "      token.is_bracket or \\\n",
        "      token.is_quote or \\\n",
        "      token.is_currency or \\\n",
        "      token.like_url or \\\n",
        "      token.like_num or \\\n",
        "      token.like_email;\n",
        "\n",
        "    return not is_invalid;\n",
        "\n",
        "  def prepare(self, text) :\n",
        "    \"\"\"\n",
        "    Prepares a token for machine learning processing\n",
        "    Parameters\n",
        "    ----------\n",
        "      text : str\n",
        "          The token's text to be prepared, performing validation as well\n",
        "\n",
        "    Returns\n",
        "    -------\n",
        "    str\n",
        "        The prepared text, None if token is invalid          \n",
        "    \"\"\"    \n",
        "    prepared_text = text.strip();  \n",
        "    prepared_text = prepared_text.lower();\n",
        "    prepared_text = re.sub(self.covid_19_regexp, \"\", prepared_text);\n",
        "    prepared_text = re.sub(self.number_regexp, \"\", prepared_text);\n",
        "    prepared_text = self.stemmer.stem(prepared_text);\n",
        "    \n",
        "    if (len(prepared_text) == 0) :\n",
        "      return None;\n",
        "\n",
        "    if (prepared_text in self.custom_stop_words_tokens):\n",
        "      return None;  \n",
        "\n",
        "    return prepared_text;\n",
        "\n",
        "  def fit(self, X, Y=None) :\n",
        "    return self;\n",
        "\n",
        "  def transform(self, X, Y = None) :\n",
        "    \n",
        "    data_size = 0\n",
        "    \n",
        "    if (type(X) == np.ndarray) :\n",
        "      data_size = X.shape[0]\n",
        "    else:  \n",
        "      data_size = len(X)\n",
        "\n",
        "    tokens_text_processed_joined = np.repeat(None, data_size);\n",
        "\n",
        "    for i in range(0, data_size) :\n",
        "      tokens = self.nlp_support(X[i]);\n",
        "      tokens_text = [];\n",
        "      tokens_text_lemma = [];\n",
        "      tokens_text_pos = [];\n",
        "      tokens_text_processed = [];\n",
        "\n",
        "      for token in tokens:\n",
        "        if (self.is_valid(token)) :\n",
        "          prepared_text = self.prepare(token.text); \n",
        "          if (prepared_text == None) :\n",
        "            continue;\n",
        "          tokens_text_processed = np.append(tokens_text_processed, prepared_text);\n",
        "\n",
        "      tokens_text_processed_joined[i] = \" \".join(tokens_text_processed);\n",
        "\n",
        "    return tokens_text_processed_joined;\n",
        "\n",
        "    def fit_transform(self, X, Y = None) :\n",
        "      return self.fit(X, Y).transform(X, Y)"
      ]
    },
    {
      "cell_type": "code",
      "source": [
        "def get_remote_zip_file(archive_url, file_name) :\n",
        "  \"\"\"\n",
        "  Retrieves an archive file from an URL and extracts the content of an inside file \n",
        "  Parameters\n",
        "  ----------\n",
        "    archive_url : str\n",
        "        The url for retrieving the archive\n",
        "    file_name : str\n",
        "        The filename holding the content\n",
        "\n",
        "  Returns\n",
        "  -------\n",
        "  file\n",
        "      The opened file           \n",
        "  \"\"\"  \n",
        "\n",
        "  response = rqc.CachedSession().get(archive_url)\n",
        "  binary_data = io.BytesIO(response.content)\n",
        "\n",
        "  with zipfile.ZipFile(binary_data) as z:\n",
        "   return z.open(file_name)\n"
      ],
      "metadata": {
        "id": "XTZF_ZyUL4lr",
        "colab": {
          "base_uri": "https://localhost:8080/",
          "height": 17
        },
        "outputId": "fbcf0579-01e8-4923-9bba-5ad4271f97ce"
      },
      "execution_count": 7,
      "outputs": [
        {
          "output_type": "display_data",
          "data": {
            "text/plain": [
              "<IPython.core.display.HTML object>"
            ],
            "text/html": [
              "\n",
              "  <style>\n",
              "    pre {\n",
              "        white-space: pre-wrap;\n",
              "    }\n",
              "  </style>\n",
              "  "
            ]
          },
          "metadata": {}
        }
      ]
    },
    {
      "cell_type": "code",
      "source": [
        "# load the classifier from the remote URL\n",
        "MODEL_URL = \"https://github.com/INTERTECHNICA-BUSINESS-SOLUTIONS-SRL/NATO-Article-COVID-Fake-News-Detection-TFIDF/raw/main/model/COVID_fake_news_TFIF_SVC_pipeline.zip\"\n",
        "MODEL_FILE = \"COVID_fake_news_TFIF_SVC_pipeline.joblib\"\n",
        "\n",
        "loaded_classifier_pipeline = None\n",
        "\n",
        "with get_remote_zip_file(MODEL_URL, MODEL_FILE) as f:\n",
        "  loaded_classifier_pipeline = load(f)\n"
      ],
      "metadata": {
        "id": "ApcsZpmwNbrJ",
        "colab": {
          "base_uri": "https://localhost:8080/",
          "height": 17
        },
        "outputId": "b0f91b04-bafd-42f5-a2d6-4527ce9eb03a"
      },
      "execution_count": 8,
      "outputs": [
        {
          "output_type": "display_data",
          "data": {
            "text/plain": [
              "<IPython.core.display.HTML object>"
            ],
            "text/html": [
              "\n",
              "  <style>\n",
              "    pre {\n",
              "        white-space: pre-wrap;\n",
              "    }\n",
              "  </style>\n",
              "  "
            ]
          },
          "metadata": {}
        }
      ]
    },
    {
      "cell_type": "markdown",
      "metadata": {
        "id": "2UB0IYN74LF6"
      },
      "source": [
        "# Load the Test Data"
      ]
    },
    {
      "cell_type": "markdown",
      "metadata": {
        "id": "BouuyvZQ9xFI"
      },
      "source": [
        "We will load the dataset saved along with the classifier and extract the test related data."
      ]
    },
    {
      "cell_type": "code",
      "source": [
        "# load the classifier from the remote URL\n",
        "DATASETS_URL = \"https://github.com/INTERTECHNICA-BUSINESS-SOLUTIONS-SRL/NATO-Article-COVID-Fake-News-Detection-TFIDF/raw/main/data/processed/datasets.zip\"\n",
        "DATASETS_FILE = \"datasets.npz\"\n",
        "\n",
        "X_test = None\n",
        "Y_test = None\n",
        "\n",
        "with get_remote_zip_file(DATASETS_URL, DATASETS_FILE) as f_datasets:\n",
        "  loaded_data = np.load(f_datasets, allow_pickle=True)\n",
        "  X_test = loaded_data[\"X_test\"]\n",
        "  Y_test = loaded_data[\"Y_test\"]"
      ],
      "metadata": {
        "id": "JUlfDThMOux9",
        "colab": {
          "base_uri": "https://localhost:8080/",
          "height": 17
        },
        "outputId": "0ab2d790-64ca-4eb8-db5b-f024acde7726"
      },
      "execution_count": 9,
      "outputs": [
        {
          "output_type": "display_data",
          "data": {
            "text/plain": [
              "<IPython.core.display.HTML object>"
            ],
            "text/html": [
              "\n",
              "  <style>\n",
              "    pre {\n",
              "        white-space: pre-wrap;\n",
              "    }\n",
              "  </style>\n",
              "  "
            ]
          },
          "metadata": {}
        }
      ]
    },
    {
      "cell_type": "markdown",
      "metadata": {
        "id": "p_e1qZkjbJG7"
      },
      "source": [
        "# Identify Prediction Highlights"
      ]
    },
    {
      "cell_type": "markdown",
      "metadata": {
        "id": "MJwsKAQicRHt"
      },
      "source": [
        "We need to explore the predicted results and understand better the nature of the predicted results.\n",
        "\n",
        "We will use the classifier to predict probabilities and inspect the most representative samples of true positives/negatives and false positives/negatives."
      ]
    },
    {
      "cell_type": "code",
      "execution_count": 10,
      "metadata": {
        "id": "Bh2a5eP51p5R",
        "colab": {
          "base_uri": "https://localhost:8080/",
          "height": 17
        },
        "outputId": "26d6b41c-c910-4f1b-99d4-b6844f8fe0e0"
      },
      "outputs": [
        {
          "output_type": "display_data",
          "data": {
            "text/plain": [
              "<IPython.core.display.HTML object>"
            ],
            "text/html": [
              "\n",
              "  <style>\n",
              "    pre {\n",
              "        white-space: pre-wrap;\n",
              "    }\n",
              "  </style>\n",
              "  "
            ]
          },
          "metadata": {}
        }
      ],
      "source": [
        "# use classifier to predict probabilities\n",
        "Y_pred_proba = loaded_classifier_pipeline.predict_proba(X_test)"
      ]
    },
    {
      "cell_type": "code",
      "execution_count": 11,
      "metadata": {
        "id": "PXJgQYHm3hIv",
        "colab": {
          "base_uri": "https://localhost:8080/",
          "height": 625
        },
        "outputId": "7e1a5ed7-b81d-4aae-d130-eef6ce1b2d1a"
      },
      "outputs": [
        {
          "output_type": "display_data",
          "data": {
            "text/plain": [
              "<IPython.core.display.HTML object>"
            ],
            "text/html": [
              "\n",
              "  <style>\n",
              "    pre {\n",
              "        white-space: pre-wrap;\n",
              "    }\n",
              "  </style>\n",
              "  "
            ]
          },
          "metadata": {}
        },
        {
          "output_type": "stream",
          "name": "stdout",
          "text": [
            "Most representative true positive fit predicted with the probability of 99.10% as fake news is: \n",
            "\n",
            " Coronavirus: US President Donald Trump suggests 'injecting disinfectant' to treat COVID-19, 'clean the lungs' Donald Trump suggests injecting disinfectant could be an effective treatment for COVID-19. Credits: Video - The White House; Image - Reuters\n",
            "Being injected with disinfectant could be an effective treatment for COVID-19, US President Donald Trump has bizarrely claimed during a disastrous press conference from the White House.\n",
            "Trump made the comment after Department of Homeland Security (DHS) official Bill Bryan gave a presentation on research his team has carried out, which showed the coronavirus does not live as long in humidity or warmer temperatures.\n",
            "After Bryan explained that the virus dies quickest in sunlight, Trump suggested there may be some way to \"[bring] the light inside the body\".\n",
            "Related News\n",
            "Trump says he's signing order to 'suspend' US immigration\n",
            "China 'must have the most' COVID-19 deaths - Trump \"So supposing we hit the body with a tremendous ultraviolet or just a very powerful light, and I think you said that hasn't been checked because of the testing,\" Trump said to Bryan.\n",
            "\"And then I said supposing you brought the light inside the body, which you can do either through the skin or some other way, and I think you said you're going to test that too.\n",
            "\"I would like you to speak to the medical doctors to see if there's any way that you can apply light and heat to cure [COVID-19]. Maybe you can, maybe you can't - I'm not a doctor, but I'm a person who has a good you know what,\" he said, pointing to his head.\n",
            "Trump then went on to suggest that injecting disinfectant could \"[do] a tremendous number on the lungs\".\n",
            "Related News\n",
            "Trump urges armed protesters to 'liberate' their states\n",
            "Trump's plan to reopen United States has big holes, experts say \"I see the disinfectant that knocks it out in a minute - one minute,\" he said. \"And is there a way we can do something like that by injection inside, or almost a cleaning?\n",
            "\"As you see it gets in the lungs, it does a tremendous number on the lungs, so it would be interesting to check that.\"\n",
            "Disinfectant is effective at killing pathogens like COVID-19, but can lead to poisoning or even death if it is ingested - a point New Zealand scientist Dr Michelle Dickinson was eager to get across after watching the briefing.\n",
            "\"You know how bleach and other home cleaning supplies and disinfectants have child-proof lids to protect children from drinking them?\" she wrote on Twitter.\n",
            "\"This is because drinking them can kill them so it keeps our kids safe! This is also the reason why we don't inject disinfectants into people.\"\n",
            "It's not the first time Trump has touted unproven treatments as potential cures for COVID-19. Earlier this month he said hydroxychloroquine could be a \"game-changer\", despite health authorities in the US warning against its use.\n",
            "The comments capped off a calamitous coronavirus briefing for Trump, who also got in a spat with a Washington Post journalist who challenged him on the medical basis for the treatments he was suggesting.\n",
            "\"I'm the President, and you're fake news,\" he told Philip Rucker. \"I know the guy, I see what he writes - he's a total faker.\"\n",
            "The President also claimed that \"numerous\" world leaders had called him in the last 48 hours to say the US was \"leading the way\" with its COVID-19 response, despite the US recording the highest number of confirmed cases (887,000) and deaths (50,000) from COVID-19 in the world.\n"
          ]
        }
      ],
      "source": [
        "# determine the most representative true positive fit\n",
        "# i.e. true positive correctly classified with the highest probability\n",
        "index_most_representative_true_positive_fit = np.argmax(Y_pred_proba[:,1]*Y_test)\n",
        "probability_most_representative_true_positive_fit = Y_pred_proba[index_most_representative_true_positive_fit,1]\n",
        "most_representative_true_positive_fit = X_test[index_most_representative_true_positive_fit]\n",
        "\n",
        "print(f\"Most representative true positive fit predicted with the probability of \\\n",
        "{probability_most_representative_true_positive_fit:.2%} as fake news is: \\n\\n {most_representative_true_positive_fit}\")"
      ]
    },
    {
      "cell_type": "code",
      "execution_count": 12,
      "metadata": {
        "id": "iv71y2il2bgV",
        "colab": {
          "base_uri": "https://localhost:8080/",
          "height": 642
        },
        "outputId": "36b6df16-f19c-4d6f-926f-ad06e6e44c1c"
      },
      "outputs": [
        {
          "output_type": "display_data",
          "data": {
            "text/plain": [
              "<IPython.core.display.HTML object>"
            ],
            "text/html": [
              "\n",
              "  <style>\n",
              "    pre {\n",
              "        white-space: pre-wrap;\n",
              "    }\n",
              "  </style>\n",
              "  "
            ]
          },
          "metadata": {}
        },
        {
          "output_type": "stream",
          "name": "stdout",
          "text": [
            "Most representative true negative fit predicted with the probability of 0.20% as fake news is: \n",
            "\n",
            " Public Health Advisory To Nigerians On Novel Corona Virus This is a public health advisory on a new virus; the novel coronavirus (nCoV), by the Nigeria Centre for Disease Control. As this is a new virus, and new information is emerging every day, this advisory will be updated as new information and research on the virus and its impact on populations become available.The first case of a novel (new) coronavirus (2019nCoV) strain was confirmed in China on the 7th of January 2020. According to preliminary investigations, most patients either visited or worked in the Huanan Seafood wholesale market, Wuhan city. As at the 20th of January 2020, 278 laboratory-confirmed cases of 2019-nCoV infection including six deaths have been reported to WHO globally since the first case was reported on the 31st of December 2019.Many of the initial cases were thought to have contacted the virus through animal-to-human transmission from the market, but human-to-human transmission has also been established. Global surveillance is being established and it is expected that more cases will be reported over the next weeks.Wuhan city is a major transport hub in China. Beyond Wuhan, cases have been confirmed in other cities in China; Guangdong, Beijing and Shanghai. As at the 21st of January, five cases have been confirmed in four other countries; Thailand, Japan, Republic of Korea and the United States of America, all with a travel history to China.Coronaviruses are zoonotic, meaning they are normally transmitted between animals and people. A novel coronavirus (nCoV) is a new strain of the virus that has not been previously identified in humans. Some coronaviruses can be transmitted from person to person, usually after close contact with an infected patient, for example, in a householdor health care setting. Several known coronaviruses are circulating in animals that have not yet infected humans.The World Health Organization (WHO) has convened its Emergency Committee today (22/01/20) to determine whether this outbreak should be declared a “Public Health Event of International Concern” (PHEIC). SYMPTOMS This new coronavirus 2019nCoV appears to cause mild to severe respiratory symptoms like cough and breathing difficulties. From current evidence, it appears that death is a rare outcome, mostly in patients with underlying illness. TREATMENT There is no specific treatment for disease caused by the novel coronavirus yet. However, many of the symptoms can be treated. Therefore, treatment is based on the patient’s clinical condition. In addition, supportive care for infected persons can be highly effective. NIGERIA’S PREPAREDNESS AND RESPONSE The Nigeria Centre for Disease Control (NCDC) is currently coordinating a multisectoral technical group that is assessing and managing the risk of importation to Nigeria. NCDC is in close communication with the World Health Organization (WHO) who is closely monitoring the situation globally. WHO is in direct communication with the Government of China and other affected countries, and has released technical and travel guidance.The Port Health Services unit of the Federal Ministry of Health in Nigeria has been placed on alert and has heightened screening measures at the points of entry. In China, exit screening measures have been enhanced for travellers from Wuhan city at the Points of Entry (PoE) (airports and ground transport stations) since the 14th of January 2020. This includes temperature checks, combined with provision of information and masks to passengers with fever, as well as directing symptomatic passengers to health facilities for follow up.Nigerians are advised to remain calm. Travelers from Nigeria to Wuhan, China, are advised to avoid contact with sick people, animals (alive or dead), and animal markets.Travelers from Wuhan to Nigeria, may be asked questions upon arrival by the Port Health Services unit at points of entry about symptoms of illness and travel history, and are advised to report immediately to NCDC, if they feel ill after a trip to Wuhan.The Federal Ministry of Health through NCDC and its partners are fully committed to strengthening our preparedness and response to infectious disease outbreaks.Information will be shared with the public as it becomes available. HOW TO PROTECT YOURSELF To reduce the risk of spread of coronavirus, members of the public are advised to adhere to the following measures:• Wash your hands regularly with soap under running water• Cover your mouth and nose properly with handkerchief or tissue paper when sneezing and/or coughing. You may also cough into your elbow if a handkerchief is not available.• Avoid close contact with anyone showing symptoms of respiratory illness such as coughing and sneezing• Avoid self-medication, report to the nearest health facility when you experience any of the above-mentioned symptoms• Healthcare workers are always advised to observe standard infection prevention and control measures when attending to patients and take a travel history.As the situation is evolving, this advisory will be updated as more information becomes available.\n"
          ]
        }
      ],
      "source": [
        "# determine the most representative true negative fit\n",
        "# i.e. true negative correctly classified with the highest probability\n",
        "index_most_representative_true_negative_fit = np.argmax(Y_pred_proba[:,0]*(1 - Y_test))\n",
        "probability_most_representative_true_negative_fit = Y_pred_proba[index_most_representative_true_negative_fit,1]   \n",
        "most_representative_true_negative_fit = X_test[index_most_representative_true_negative_fit]\n",
        "\n",
        "print(f\"Most representative true negative fit predicted with the probability of \\\n",
        "{probability_most_representative_true_negative_fit:.2%} as fake news is: \\n\\n {most_representative_true_negative_fit}\")"
      ]
    },
    {
      "cell_type": "code",
      "execution_count": 13,
      "metadata": {
        "id": "Rk-epII9BSxy",
        "colab": {
          "base_uri": "https://localhost:8080/",
          "height": 625
        },
        "outputId": "190a2c42-cfbf-406e-e339-ab6f1e70c74d"
      },
      "outputs": [
        {
          "output_type": "display_data",
          "data": {
            "text/plain": [
              "<IPython.core.display.HTML object>"
            ],
            "text/html": [
              "\n",
              "  <style>\n",
              "    pre {\n",
              "        white-space: pre-wrap;\n",
              "    }\n",
              "  </style>\n",
              "  "
            ]
          },
          "metadata": {}
        },
        {
          "output_type": "stream",
          "name": "stdout",
          "text": [
            "Most representative false positive fit predicted with the probability of 98.20% as fake news is: \n",
            "\n",
            " Mississippi man recovering at home after 21 days on a ventilator due to COVID-19 A Pearl River County man is recovering at home after spending three weeks on a ventilator due to COVID-19. Doctors didn’t believe there was much chance for survival, but the man and his family never gave up hope.\n",
            "After 21 days on a ventilator, Joey Collum was wheeled out of a Hattiesburg hospital.\n",
            "“Lord. I don’t even know how to put that into words,” Collum said. “I knew then I was way more blessed than I ever thought I was.”\n",
            "Emergency responders escorted Collum and his wife Datia from the hospital to their church where a welcome committee awaited.\n",
            "“They had their sirens going down the highway and he was just crying. He was just crying. Because he made it. He made it,” Datia said.\n",
            "Datia says, according to doctors, the odds were against him. The 62-year-old Mississippi man has pre-existing conditions and hadn't fully recovered from a recent bout in the hospital.\n",
            "\"The doctors weren't giving me a whole lot of hope. They were already basically preparing me for the worst,\" Datia explained. \"The virus just basically tore his lungs up.\"\n",
            "Joey first showed symptoms, March 22. By the 27, he was in the hospital with pneumonia. The next day, Joey’s test came back positive for COVID-19. His condition had deteriorated and he was flown to a hospital in Hattiesburg where he only got worse.\n",
            "“He was in such bad condition. I got the phone call after they intubated him which means that the last time I talked to him would’ve been the last time that I talked to him had anything happened. So, I was just feeling a little lost,” Datia choked back tears. “I’m sorry.”\n",
            "When doctors put Joey on a ventilator, Datia did research on mortality rates for COVID patients, looking for hope but finding very little.\n",
            "A new study published in the Journal of the American Medical Association indicates nine out of 10 COVID patients put on ventilators do not survive. The study examined the outcomes of 2,600 patients in the New York City area.\n",
            "Doctors say, the longer a patient is on one, the less chance for survival. Ventilators help a patient breathe but do not offer a solution. They solely provide support until the body is well enough to breathe on its own or until other treatments prove successful.\n",
            "\"It was scary. It was really scary because he almost didn't make it,\" Datia said.\n",
            "For days, Datia waited for good news, but it didn't come. She tried to stay busy and stay strong for her family. Oftentimes, Datia says she found herself outside, singing and talking to her God.\n",
            "\"If it was his time to go, then God knows better than me what plan he had. I was able to keep my faith just because of the relationship I have with God and that he has our best interest in mind and I just had to trust him and believe that,\" explained Datia.\n",
            "It wasn't. Joey began to improve and doctors took him off a ventilator.\n",
            "“21 days. I didn’t even know I was alive,” Joey said.\n",
            "Once Joey awoke from sedation and started responding, Datia knew her husband would recover.\n",
            "\"It was a very weak and a very frail voice but he told me he loved me and it was perfect. It might've been weak but it was perfect,\" recalled Datia.\n",
            "Still celebrating but exhausted from the homecoming, the Collums believe it would have never happened without their faith.\n",
            "“We had a lot of people praying and so I really believe that those prayers were heard,” Datia said. “And he’s home.”\n",
            "\"I know my God never let my hand go,\" Joey said.\n",
            "Joey is still recovering. He doesn’t have his voice back, completely, and there are sores on his face from the glue that held the intubation tube in place.\n",
            "Copyright 2020 WVUE. All rights reserved.\n"
          ]
        }
      ],
      "source": [
        "# determine the most representative false positive fit\n",
        "# i.e. false positive incorrectly classified with the highest probability\n",
        "index_most_representative_false_positive_fit = np.argmax(Y_pred_proba[:,1]*(1 - Y_test))\n",
        "probability_most_representative_false_positive_fit = Y_pred_proba[index_most_representative_false_positive_fit, 1]   \n",
        "most_representative_false_positive_fit = X_test[index_most_representative_false_positive_fit]\n",
        "\n",
        "print(f\"Most representative false positive fit predicted with the probability of \\\n",
        "{probability_most_representative_false_positive_fit:.2%} as fake news is: \\n\\n {most_representative_false_positive_fit}\")"
      ]
    },
    {
      "cell_type": "code",
      "execution_count": 14,
      "metadata": {
        "id": "kfU5M4gYsmqt",
        "colab": {
          "base_uri": "https://localhost:8080/",
          "height": 399
        },
        "outputId": "654e0265-9d07-4828-816c-9091cfeb5fac"
      },
      "outputs": [
        {
          "output_type": "display_data",
          "data": {
            "text/plain": [
              "<IPython.core.display.HTML object>"
            ],
            "text/html": [
              "\n",
              "  <style>\n",
              "    pre {\n",
              "        white-space: pre-wrap;\n",
              "    }\n",
              "  </style>\n",
              "  "
            ]
          },
          "metadata": {}
        },
        {
          "output_type": "stream",
          "name": "stdout",
          "text": [
            "Most representative false negative fit predicted with the probability of 1.75% as fake news is: \n",
            "\n",
            " Govt reviews preparedness at highest level to manage Corona Virus in country A Group of Ministers met in New Delhi yesterday to review the preparedness and steps taken by the Ministries of Health, Shipping, External Affairs, Civil Aviation and Home Affairs regarding management of Novel Coronavirus in the country. The meeting was chaired by the Health Minister Dr Harsh Vardhan. The group, which has been constituted on the directions of Prime Minister Narendra Modi, comprises of Health Minister Dr. Harsh Vardhan, Civil Aviation Minister Hardeep Puri, External Affairs Minister S Jaishankar, Minister of State for Home G Kishan Reddy, Minister of State for Health Ashwini Kumar Choubey and Shipping Minister Mansukh Lal Mandaviya. A presentation of the status of the NCOV-2019 was made to the GoM. The members were also apprised of the three cases reported from Kerala, one of which was confirmed yesterday. The preventive steps and measures taken for management of spread of Novel Coronavirus in India were presented, which included information about the revised travel advisories issued on Sunday regarding the temporary suspension of the e-visa facilities. The Advisory has been revised informing the public to refrain from travel to China and that anyone with travel history to China since the 15th of last month and from now on could be quarantined. Further, e-Visa facility for Chinese passport holders has been temporarily suspended, e-Visa already issued to Chinese nationals is also not valid temporarily and the facility for submitting the application online for the physical visa from China is suspended. It has also been advised that people having compelling reasons to visit India should contact the Indian embassy in Beijing or consulate in Shanghai or Guangzhou. Instructions to comply with above travel advisory have also been issued to all national and international airlines operating from China by the Ministry of Civil Aviation. The GoM was also briefed that a total of 593 flights have been screened covering a total of 72,353 passengers. Screening of passengers is ongoing in 21 airports, international seaports and border crossings particularly with Nepal. Universal screening in all flights from Singapore and Thailand besides Hong Kong and China is being done. Further, 2,815 people are presently under community surveillance in 29 States and Union Territories. Out of a total of 338 samples sent for testing, 335 have been found to be negative, three are positive, while 70 others are being processed. Principal Secretary to Prime Minister PK Mishra also reviewed the situation relating to Novel Corona Virus in the country and the arrangements for approximately 600 evacuees. National Security Adviser Ajit Doval, Principal Adviser to Prime Minister PK Sinha, Cabinet Secretary Rajiv Gauba, Chief of Defence Staff General Bipin Rawat and secretaries of other relevant ministries were also present.\n"
          ]
        }
      ],
      "source": [
        "# determine the most representative false negative fit\n",
        "# i.e. false negative incorrectly classified with the highest probability\n",
        "index_most_representative_false_negative_fit = np.argmax(Y_pred_proba[:,0]*Y_test)\n",
        "probability_most_representative_false_negative_fit = Y_pred_proba[index_most_representative_false_negative_fit, 1]   \n",
        "most_representative_false_negative_fit = X_test[index_most_representative_false_negative_fit]\n",
        "\n",
        "print(f\"Most representative false negative fit predicted with the probability of \\\n",
        "{probability_most_representative_false_negative_fit:.2%} as fake news is: \\n\\n {most_representative_false_negative_fit}\")"
      ]
    },
    {
      "cell_type": "code",
      "execution_count": 15,
      "metadata": {
        "id": "4lCBfBZzTBN7",
        "colab": {
          "base_uri": "https://localhost:8080/",
          "height": 625
        },
        "outputId": "742fae8e-4b72-47c7-d0c6-72eeeddb303e"
      },
      "outputs": [
        {
          "output_type": "display_data",
          "data": {
            "text/plain": [
              "<IPython.core.display.HTML object>"
            ],
            "text/html": [
              "\n",
              "  <style>\n",
              "    pre {\n",
              "        white-space: pre-wrap;\n",
              "    }\n",
              "  </style>\n",
              "  "
            ]
          },
          "metadata": {}
        },
        {
          "output_type": "stream",
          "name": "stdout",
          "text": [
            "The item closest to the decision boundary predicted with the probability of 50.00% as fake news is: \n",
            "\n",
            " Singapore races to build beds for COVID-19 patients as cases surge Singapore is rapidly building bed space for coronavirus patients in cavernous exhibition halls and other temporary facilities as it faces a surge in cases, mainly among its large community of low-paid migrant workers.\n",
            "One such facility at Changi Exhibition Center – home to the Singapore Airshow, Asia’s biggest aerospace gathering – could eventually house over 4,000 patients recovering from the disease and those with mild symptoms.\n",
            "“The entire process of setting up the infrastructure took six days,” Joseph Tan, a member of the organizing committee for the temporary facility, told Reuters on a visit.\n",
            "The tiny city-state of 5.7 million people registered 931 new coronavirus infections, its health ministry said on Sunday, taking the total number of COVID-19 cases to 13,624. The number of new cases rose from 618 reported on Saturday.\n",
            "The vast majority of the new cases are migrant workers living in dormitories, the health ministry said in the statement. Fifteen of the new cases are permanent residents.\n",
            "Singapore now has one of the highest infection rates in Asia, according to official figures, due to outbreaks in cramped dormitories housing over 300,000 mainly South Asian workers.\n",
            "The first patients, mainly from Bangladesh and India, were moved on Saturday into the vast conference hall, partitioned into rooms for eight to 10 people, with metal beds, plastic storage drawers and fans.\n",
            "Singapore trails only China, India, Japan and Pakistan in Asia for the number of coronavirus infections. More than 10,000 of those infected, some 80% of its total, are foreign workers, many of whom have been placed in “isolation facilities” for people with mild symptoms such as the conference centers.\n",
            "Despite the high total of cases, Singapore has reported 12 deaths and 24 people are in intensive care.\n",
            "Singapore’s young overseas laborers, earning as little as $15 a day, live in dormitories with bunk-bed accommodation in areas little visited by tourists to the modern city-state. Many are under government-ordered quarantines due to mass outbreaks, with workers left inside battling a constant fear of catching the virus.\n",
            "At the new Changi isolation center, each room has blood-pressure monitors and other medical equipment for patients to conduct their own health checks three times daily, while remote-controlled robots provide meals and teleconferencing services to reduce contact.\n",
            "Authorities are also trialing a four-legged robot dog built by Boston Dynamics at the facility, which they said could be used to deliver medicines to patients or take their temperature.\n",
            "The indoor space can house 2,700 patients, while an ongoing outdoor extension will add another 1,700 beds. A nearby conference center called EXPO is already housing hundreds of COVID-19 patients.\n",
            "Around 10,000 healthy workers in essential services have been moved from dormitories into alternative housing, including military camps, converted sports halls and accommodation ships for offshore workers, authorities say.\n",
            "Rows of white huts are also being hurriedly assembled at the Tanjong Pagar shipping-container port. The facility could house up to 15,000 foreign workers, local media reported, but authorities have yet to decide how it will be used.\n",
            "“We are continuing to explore additional space for various reasons, including facilities for suspect cases or infected workers, and also for workers who are recovering or who have fully recovered,” a spokeswoman for the Ministry of National Development said in an emailed statement, adding that the Tanjong Pagar site was part of that plan.\n"
          ]
        }
      ],
      "source": [
        "# determine the item that is closest to the decision boundary\n",
        "# i.e. closest to 50% probability to be a fake news\n",
        "index_most_representative_closest_to_decision_boundary = np.argmax(-abs(Y_pred_proba[:, 0] - Y_pred_proba[:, 1]))\n",
        "probability_most_representative_closest_to_decision_boundary = Y_pred_proba[index_most_representative_closest_to_decision_boundary, 1]   \n",
        "most_representative_closest_to_decision_boundary = X_test[index_most_representative_closest_to_decision_boundary]\n",
        "\n",
        "print(f\"The item closest to the decision boundary predicted with the probability of \\\n",
        "{probability_most_representative_closest_to_decision_boundary:.2%} as fake news is: \\n\\n {most_representative_closest_to_decision_boundary}\")"
      ]
    },
    {
      "cell_type": "markdown",
      "metadata": {
        "id": "Iq-D-WzsbCgx"
      },
      "source": [
        "At this point we have identified the relevant samples of predictions, still we need to understand why the classifier is generating these results.\n",
        "\n",
        "In other words we need to reach a certain degree of explainability for our models."
      ]
    },
    {
      "cell_type": "markdown",
      "metadata": {
        "id": "PaGIQUo7pG3u"
      },
      "source": [
        "# Local Explainability"
      ]
    },
    {
      "cell_type": "markdown",
      "metadata": {
        "id": "Lsc1qLtX3H3S"
      },
      "source": [
        "We will be treating the classifier as a black box classifier. This is even more appropriate since the classifier we used is a SVM-based classifier, these classifiers have a low degree of explainability."
      ]
    },
    {
      "cell_type": "markdown",
      "metadata": {
        "id": "faZ81jGg7TZw"
      },
      "source": [
        "For starters we will focus on local explainability, more specific we will focus on understanding which features (in our case words/tokens) contribute the most towards a certain classification. For this reason we will use the [LIME](https://github.com/marcotcr/lime) package which offers model agnostic local intepretability."
      ]
    },
    {
      "cell_type": "code",
      "execution_count": 16,
      "metadata": {
        "id": "dfQ6S1VDI9Eo",
        "colab": {
          "base_uri": "https://localhost:8080/",
          "height": 17
        },
        "outputId": "9858a184-dfa9-4b26-84e8-9f2b65deb163"
      },
      "outputs": [
        {
          "output_type": "display_data",
          "data": {
            "text/plain": [
              "<IPython.core.display.HTML object>"
            ],
            "text/html": [
              "\n",
              "  <style>\n",
              "    pre {\n",
              "        white-space: pre-wrap;\n",
              "    }\n",
              "  </style>\n",
              "  "
            ]
          },
          "metadata": {}
        }
      ],
      "source": [
        "# prepare the explainer for the binary classification\n",
        "# using Veridic and Fake news\n",
        "lime_explainer = LimeTextExplainer(\n",
        "    class_names = [\"Veridic News\", \"Fake News\"], \n",
        "    random_state= rand_state\n",
        "  )"
      ]
    },
    {
      "cell_type": "code",
      "source": [
        "\n",
        "\n",
        "def display_explanation_factors(explanation, title, probability) :\n",
        "  \"\"\"\n",
        "  Displays the explanation factors and their impact towards a veridic or \n",
        "  a fake story. \n",
        "  Parameters\n",
        "  ----------\n",
        "    explanation : Explanation\n",
        "        The explanation object\n",
        "    title : str\n",
        "        The displayed title\n",
        "    probability:\n",
        "        The predicted probability for a fake news    \n",
        "\n",
        "  Returns\n",
        "  -------\n",
        "    None\n",
        "  \"\"\"  \n",
        "  list_expl = explanation.as_list()\n",
        "  labels, values = zip(*list_expl)\n",
        "\n",
        "  x_data = np.round(np.array(values), 3)\n",
        "  y_data = np.array(labels) \n",
        "\n",
        "  fig, ax = plt.subplots()\n",
        "  plt.subplots_adjust(left=-1, right = 0)\n",
        "  ax.xaxis.set_visible(False)\n",
        "  ax.spines['top'].set_visible(False)\n",
        "  ax.spines['right'].set_visible(False)\n",
        "  ax.spines['bottom'].set_visible(False)\n",
        "  ax.spines['left'].set_visible(False)\n",
        "  ax.margins(x=0.2)\n",
        "\n",
        "  color_mapper = lambda t: \"darkred\" if t > 0 else \"darkgreen\"\n",
        "  chart = sns.barplot(\n",
        "      x = x_data, \n",
        "      y = y_data,\n",
        "      palette = np.vectorize(color_mapper)(x_data)\n",
        "    )\n",
        "  chart.bar_label(chart.containers[0])\n",
        "\n",
        "  chart.set_title(title + \"\\n\" + \"Fake News Probability: \" +  str(probability))\n",
        "  plt.show()"
      ],
      "metadata": {
        "colab": {
          "base_uri": "https://localhost:8080/",
          "height": 17
        },
        "id": "V2Igi4KnujPX",
        "outputId": "d610169e-4442-4e15-f042-4be811595110"
      },
      "execution_count": 17,
      "outputs": [
        {
          "output_type": "display_data",
          "data": {
            "text/plain": [
              "<IPython.core.display.HTML object>"
            ],
            "text/html": [
              "\n",
              "  <style>\n",
              "    pre {\n",
              "        white-space: pre-wrap;\n",
              "    }\n",
              "  </style>\n",
              "  "
            ]
          },
          "metadata": {}
        }
      ]
    },
    {
      "cell_type": "code",
      "source": [
        "def generate_explanation_text_HTML(explanation, text) :\n",
        "  \"\"\"\n",
        "  Generates the adnotated text (red for fake news, green for veridic news) in regards\n",
        "  to the explanation and the text explained. \n",
        "  Parameters\n",
        "  ----------\n",
        "    explanation : Explanation\n",
        "        The explanation object\n",
        "    text : str\n",
        "        The original text\n",
        "\n",
        "  Returns\n",
        "  -------\n",
        "    str\n",
        "      The generated adnotated text (HTML format)\n",
        "  \"\"\"   \n",
        "  expl_list = explanation.as_list()\n",
        "  tokens = list(zip(*expl_list))[0]\n",
        "  tokens_impact = list(zip(*expl_list))[1]\n",
        "\n",
        "  tokens_impact_arr_abs = np.abs(np.array(tokens_impact))\n",
        "  tokens_impact_arr_abs_max = np.max(tokens_impact_arr_abs)\n",
        "  tokens_impact_arr_abs_ratio = tokens_impact_arr_abs / (tokens_impact_arr_abs_max)\n",
        "\n",
        "  replaced = text\n",
        "\n",
        "  for i in range(len(tokens)) :\n",
        "\n",
        "    color = f\"rgba(256,0,0,{tokens_impact_arr_abs_ratio[i]})\" if tokens_impact[i] > 0  \\\n",
        "            else f\"rgba(0,256,0,{tokens_impact_arr_abs_ratio[i]})\"\n",
        "\n",
        "    format_string = f\"<span style = 'background-color:{color}'>{tokens[i]}</span>\"\n",
        "    replaced = re.sub(tokens[i], format_string, replaced)\n",
        "\n",
        "  replaced = f\"<div>{replaced}</div>\"\n",
        "\n",
        "  return replaced\n",
        "\n",
        "def print_explanation_text_HTML(explanation, text) :\n",
        "  \"\"\"\n",
        "  Prints the adnotated text (red for fake news, green for veridic news) in regards\n",
        "  to the explanation and the text explained. \n",
        "  Parameters\n",
        "  ----------\n",
        "    explanation : Explanation\n",
        "        The explanation object\n",
        "    text : str\n",
        "        The original text\n",
        "\n",
        "  Returns\n",
        "  -------\n",
        "    None\n",
        "  \"\"\"  \n",
        "  generated_HTML = generate_explanation_text_HTML(explanation, text)\n",
        "  display(HTML(generated_HTML))"
      ],
      "metadata": {
        "colab": {
          "base_uri": "https://localhost:8080/",
          "height": 17
        },
        "id": "RSYSez6_YKzB",
        "outputId": "98d7668f-5cc1-4364-d538-99176b5e6820"
      },
      "execution_count": 18,
      "outputs": [
        {
          "output_type": "display_data",
          "data": {
            "text/plain": [
              "<IPython.core.display.HTML object>"
            ],
            "text/html": [
              "\n",
              "  <style>\n",
              "    pre {\n",
              "        white-space: pre-wrap;\n",
              "    }\n",
              "  </style>\n",
              "  "
            ]
          },
          "metadata": {}
        }
      ]
    },
    {
      "cell_type": "markdown",
      "source": [
        "We will use the text explainer to ensure that we are able to explain various higlight predictions identified before."
      ],
      "metadata": {
        "id": "WBqj8rd-e_7V"
      }
    },
    {
      "cell_type": "code",
      "execution_count": 19,
      "metadata": {
        "id": "CkfvHjAbX24b",
        "colab": {
          "base_uri": "https://localhost:8080/",
          "height": 592
        },
        "outputId": "268eb504-92b9-4517-b19b-76e7240a49dc"
      },
      "outputs": [
        {
          "output_type": "display_data",
          "data": {
            "text/plain": [
              "<IPython.core.display.HTML object>"
            ],
            "text/html": [
              "\n",
              "  <style>\n",
              "    pre {\n",
              "        white-space: pre-wrap;\n",
              "    }\n",
              "  </style>\n",
              "  "
            ]
          },
          "metadata": {}
        },
        {
          "output_type": "display_data",
          "data": {
            "text/plain": [
              "<Figure size 432x288 with 1 Axes>"
            ],
            "image/png": "[encoded data removed]"
          },
          "metadata": {
            "needs_background": "light"
          }
        },
        {
          "output_type": "display_data",
          "data": {
            "text/plain": [
              "<IPython.core.display.HTML object>"
            ],
            "text/html": [
              "<div>Coronavirus: US President <span style = 'background-color:rgba(0,256,0,0.035041252334886655)'>Donald</span> <span style = 'background-color:rgba(256,0,0,0.2876152365514614)'>Trump</span> suggests 'injecting <span style = 'background-color:rgba(0,256,0,0.10401278337959377)'>disinfectant</span>' to treat <span style = 'background-color:rgba(256,0,0,1.0)'>COVID</span>-19, 'clean the lungs' <span style = 'background-color:rgba(0,256,0,0.035041252334886655)'>Donald</span> <span style = 'background-color:rgba(256,0,0,0.2876152365514614)'>Trump</span> suggests injecting <span style = 'background-color:rgba(0,256,0,0.10401278337959377)'>disinfectant</span> could be an effective treatment for <span style = 'background-color:rgba(256,0,0,1.0)'>COVID</span>-19. Credits: Video - The <span style = 'background-color:rgba(256,0,0,0.12971767039182364)'>White</span> <span style = 'background-color:rgba(256,0,0,0.10638814743498307)'>House</span>; Image - Reuters\n",
              "Being injected with <span style = 'background-color:rgba(0,256,0,0.10401278337959377)'>disinfectant</span> could be an effective treatment for <span style = 'background-color:rgba(256,0,0,1.0)'>COVID</span>-19, US President <span style = 'background-color:rgba(0,256,0,0.035041252334886655)'>Donald</span> <span style = 'background-color:rgba(256,0,0,0.2876152365514614)'>Trump</span> has bizarrely claimed during a disastrous press conference from the <span style = 'background-color:rgba(256,0,0,0.12971767039182364)'>White</span> <span style = 'background-color:rgba(256,0,0,0.10638814743498307)'>House</span>.\n",
              "<span style = 'background-color:rgba(256,0,0,0.2876152365514614)'>Trump</span> made the comment after Department of Homeland Security (DHS) official Bill Bryan gave a presentation on research his team has carried out, which showed the coronavirus does not live as long in humidity or warmer temperatures.\n",
              "After Bryan explained that the virus dies quickest in sunlight, <span style = 'background-color:rgba(256,0,0,0.2876152365514614)'>Trump</span> suggested there may be some way to \"[bring] the light inside the body\".\n",
              "Related News\n",
              "<span style = 'background-color:rgba(256,0,0,0.2876152365514614)'>Trump</span> says he's signing order to 'suspend' US immigration\n",
              "China 'must have the most' <span style = 'background-color:rgba(256,0,0,1.0)'>COVID</span>-19 deaths - <span style = 'background-color:rgba(256,0,0,0.2876152365514614)'>Trump</span> \"So supposing we hit the body with a tremendous ultraviolet or just a very powerful light, and I <span style = 'background-color:rgba(256,0,0,0.1034064853342547)'>think</span> you <span style = 'background-color:rgba(0,256,0,0.035478278566076965)'>said</span> that hasn't been checked because of the testing,\" <span style = 'background-color:rgba(256,0,0,0.2876152365514614)'>Trump</span> <span style = 'background-color:rgba(0,256,0,0.035478278566076965)'>said</span> to Bryan.\n",
              "\"And then I <span style = 'background-color:rgba(0,256,0,0.035478278566076965)'>said</span> supposing you brought the light inside the body, which you can do either through the skin or some other way, and I <span style = 'background-color:rgba(256,0,0,0.1034064853342547)'>think</span> you <span style = 'background-color:rgba(0,256,0,0.035478278566076965)'>said</span> you're going to test that too.\n",
              "\"I would like you to speak to the medical doctors to see if there's any way that you can apply light and heat to cure [<span style = 'background-color:rgba(256,0,0,1.0)'>COVID</span>-19]. Maybe you can, maybe you can't - I'm not a doctor, but I'm a person who has a good you <span style = 'background-color:rgba(256,0,0,0.1141428302142632)'>know</span> what,\" he <span style = 'background-color:rgba(0,256,0,0.035478278566076965)'>said</span>, pointing to his head.\n",
              "<span style = 'background-color:rgba(256,0,0,0.2876152365514614)'>Trump</span> then went on to suggest that injecting <span style = 'background-color:rgba(0,256,0,0.10401278337959377)'>disinfectant</span> could \"[do] a tremendous number on the lungs\".\n",
              "Related News\n",
              "<span style = 'background-color:rgba(256,0,0,0.2876152365514614)'>Trump</span> urges armed protesters to 'liberate' their states\n",
              "<span style = 'background-color:rgba(256,0,0,0.2876152365514614)'>Trump</span>'s plan to reopen United States has big holes, <span style = 'background-color:rgba(256,0,0,0.10023272294305778)'>experts</span> say \"I see the <span style = 'background-color:rgba(0,256,0,0.10401278337959377)'>disinfectant</span> that knocks it out in a minute - one minute,\" he <span style = 'background-color:rgba(0,256,0,0.035478278566076965)'>said</span>. \"And is there a way we can do something like that by injection inside, or almost a cleaning?\n",
              "\"As you see it gets in the lungs, it does a tremendous number on the lungs, so it would be interesting to check that.\"\n",
              "Disinfectant is effective at killing pathogens like <span style = 'background-color:rgba(256,0,0,1.0)'>COVID</span>-19, but can lead to poisoning or even death if it is ingested - a point New Zealand scientist Dr Michelle Dickinson was eager to get across after watching the briefing.\n",
              "\"You <span style = 'background-color:rgba(256,0,0,0.1141428302142632)'>know</span> how bleach and other home cleaning supplies and <span style = 'background-color:rgba(0,256,0,0.10401278337959377)'>disinfectant</span>s have child-proof lids to protect children from drinking them?\" she wrote on Twitter.\n",
              "\"This is because drinking them can kill them so it keeps our kids safe! This is also the reason why we don't inject <span style = 'background-color:rgba(0,256,0,0.10401278337959377)'>disinfectant</span>s into people.\"\n",
              "It's not the first time <span style = 'background-color:rgba(256,0,0,0.2876152365514614)'>Trump</span> has touted unproven treatments as potential cures for <span style = 'background-color:rgba(256,0,0,1.0)'>COVID</span>-19. Earlier this month he <span style = 'background-color:rgba(0,256,0,0.035478278566076965)'>said</span> hydroxychloroquine could be a \"game-changer\", despite health authorities in the US warning against its use.\n",
              "The comments capped off a calamitous coronavirus briefing for <span style = 'background-color:rgba(256,0,0,0.2876152365514614)'>Trump</span>, who also got in a spat with a Washington Post journalist who challenged him on the medical basis for the treatments he was suggesting.\n",
              "\"I'm the President, and you're fake news,\" he told Philip Rucker. \"I <span style = 'background-color:rgba(256,0,0,0.1141428302142632)'>know</span> the guy, I see what he writes - he's a total faker.\"\n",
              "The President also claimed that \"numerous\" world leaders had called him in the last 48 hours to say the US was \"leading the way\" with its <span style = 'background-color:rgba(256,0,0,1.0)'>COVID</span>-19 response, despite the US recording the highest number of confirmed cases (887,000) and deaths (50,000) from <span style = 'background-color:rgba(256,0,0,1.0)'>COVID</span>-19 in the world.</div>"
            ]
          },
          "metadata": {}
        }
      ],
      "source": [
        "# explain the most representative true positive fit \n",
        "# predicted by the model\n",
        "most_representative_true_positive_fit_explanation = lime_explainer.explain_instance(\n",
        "    most_representative_true_positive_fit,\n",
        "    loaded_classifier_pipeline.predict_proba\n",
        "  )\n",
        "\n",
        "display_explanation_factors(\n",
        "    most_representative_true_positive_fit_explanation,\n",
        "    \"Most Representative True Positive Prediction Explanation\",\n",
        "    round(probability_most_representative_true_positive_fit, 2)\n",
        "  )\n",
        "\n",
        "print_explanation_text_HTML(\n",
        "    most_representative_true_positive_fit_explanation,\n",
        "    most_representative_true_positive_fit\n",
        "  )"
      ]
    },
    {
      "cell_type": "code",
      "source": [
        "# explain the most representative true negative fit \n",
        "# predicted by the model\n",
        "most_representative_true_negative_fit_explanation = lime_explainer.explain_instance(\n",
        "    most_representative_true_negative_fit,\n",
        "    loaded_classifier_pipeline.predict_proba\n",
        "  )\n",
        "\n",
        "display_explanation_factors(\n",
        "    most_representative_true_negative_fit_explanation,\n",
        "    \"Most Representative True Negative Prediction Explanation\",\n",
        "    round(probability_most_representative_true_negative_fit, 2)\n",
        "  )\n",
        "\n",
        "print_explanation_text_HTML(\n",
        "    most_representative_true_negative_fit_explanation,\n",
        "    most_representative_true_negative_fit\n",
        "  )"
      ],
      "metadata": {
        "colab": {
          "base_uri": "https://localhost:8080/",
          "height": 748
        },
        "id": "KFQ--ag7ZEfm",
        "outputId": "0f4f031b-784a-4252-cde0-b70a52be4fba"
      },
      "execution_count": 20,
      "outputs": [
        {
          "output_type": "display_data",
          "data": {
            "text/plain": [
              "<IPython.core.display.HTML object>"
            ],
            "text/html": [
              "\n",
              "  <style>\n",
              "    pre {\n",
              "        white-space: pre-wrap;\n",
              "    }\n",
              "  </style>\n",
              "  "
            ]
          },
          "metadata": {}
        },
        {
          "output_type": "display_data",
          "data": {
            "text/plain": [
              "<Figure size 432x288 with 1 Axes>"
            ],
            "image/png": "[encoded data removed]"
          },
          "metadata": {
            "needs_background": "light"
          }
        },
        {
          "output_type": "display_data",
          "data": {
            "text/plain": [
              "<IPython.core.display.HTML object>"
            ],
            "text/html": [
              "<div>Public <span style = 'background-color:rgba(0,256,0,1.0)'>Health</span> Advisory To Nigerians On Novel Corona Virus This is a public <span style = 'background-color:rgba(0,256,0,0.6758141463540135)'>health</span> <span style = 'background-color:rgba(256,0,0,0.05032594238306667)'>advisory</span> on a new virus; the novel coronavirus (<span style = 'background-color:rgba(0,256,0,0.6067523814567524)'>nCoV</span>), by the Nigeria Centre for Disease Control. As this is a new virus, and new information is emerging every day, this <span style = 'background-color:rgba(256,0,0,0.05032594238306667)'>advisory</span> will be updated as new information and research on the virus and its impact on populations become available.The first case of a novel (new) coronavirus (2019<span style = 'background-color:rgba(0,256,0,0.6067523814567524)'>nCoV</span>) strain was <span style = 'background-color:rgba(0,256,0,0.6745218182755499)'>confirmed</span> in <span style = 'background-color:rgba(0,256,0,0.7611955834170785)'>China</span> on the 7th of January 2020. According to preliminary investigations, most patients either visited or worked in the Huanan Seafood wholesale market, <span style = 'background-color:rgba(0,256,0,0.800783071496985)'>Wuhan</span> city. As at the 20th of January 2020, 278 laboratory-<span style = 'background-color:rgba(0,256,0,0.6745218182755499)'>confirmed</span> cases of 2019-<span style = 'background-color:rgba(0,256,0,0.6067523814567524)'>nCoV</span> infection including six deaths have been reported to WHO globally since the first case was reported on the 31st of December 2019.Many of the initial cases were thought to have contacted the virus through animal-to-human transmission from the market, but human-to-human transmission has also been established. Global surveillance is being established and it is expected that more cases will be reported over the next weeks.<span style = 'background-color:rgba(0,256,0,0.800783071496985)'>Wuhan</span> city is a major transport hub in <span style = 'background-color:rgba(0,256,0,0.7611955834170785)'>China</span>. Beyond <span style = 'background-color:rgba(0,256,0,0.800783071496985)'>Wuhan</span>, cases have been <span style = 'background-color:rgba(0,256,0,0.6745218182755499)'>confirmed</span> in other cities in <span style = 'background-color:rgba(0,256,0,0.7611955834170785)'>China</span>; Guangdong, Beijing and Shanghai. As at the 21st of January, five cases have been <span style = 'background-color:rgba(0,256,0,0.6745218182755499)'>confirmed</span> in four other countries; Thailand, Japan, Republic of Korea and the United States of America, all with a <span style = 'background-color:rgba(0,256,0,0.7361658066808981)'>travel</span> history to <span style = 'background-color:rgba(0,256,0,0.7611955834170785)'>China</span>.Coronaviruses are zoonotic, meaning they are normally transmitted between <span style = 'background-color:rgba(256,0,0,0.03222943722103061)'>animals</span> and people. A novel coronavirus (<span style = 'background-color:rgba(0,256,0,0.6067523814567524)'>nCoV</span>) is a new strain of the virus that has not been previously identified in humans. Some coronaviruses can be transmitted from person to person, usually after close contact with an infected patient, for example, in a householdor <span style = 'background-color:rgba(0,256,0,0.6758141463540135)'>health</span> care setting. Several known coronaviruses are circulating in <span style = 'background-color:rgba(256,0,0,0.03222943722103061)'>animals</span> that have not yet infected humans.The World <span style = 'background-color:rgba(0,256,0,1.0)'>Health</span> Organization (WHO) has convened its Emergency Committee today (22/01/20) to determine whether this outbreak should be declared a “Public <span style = 'background-color:rgba(0,256,0,1.0)'>Health</span> Event of International Concern” (PHEIC). SYMPTOMS This new coronavirus 2019<span style = 'background-color:rgba(0,256,0,0.6067523814567524)'>nCoV</span> appears to cause mild to severe respiratory symptoms like cough and breathing difficulties. From current evidence, it appears that death is a rare outcome, mostly in patients with underlying illness. TREATMENT There is no specific treatment for disease caused by the novel coronavirus yet. However, many of the symptoms can be treated. Therefore, treatment is based on the patient’s clinical condition. In addition, supportive care for infected persons can be highly effective. NIGERIA’S PREPAREDNESS AND RESPONSE The Nigeria Centre for Disease Control (<span style = 'background-color:rgba(256,0,0,0.07701216127655963)'>NCDC</span>) is currently coordinating a multisectoral technical group that is assessing and managing the risk of importation to Nigeria. <span style = 'background-color:rgba(256,0,0,0.07701216127655963)'>NCDC</span> is in close communication with the World <span style = 'background-color:rgba(0,256,0,1.0)'>Health</span> Organization (WHO) who is closely monitoring the situation globally. WHO is in direct communication with the Government of <span style = 'background-color:rgba(0,256,0,0.7611955834170785)'>China</span> and other affected countries, and has released technical and <span style = 'background-color:rgba(0,256,0,0.7361658066808981)'>travel</span> guidance.The Port <span style = 'background-color:rgba(0,256,0,1.0)'>Health</span> Services unit of the Federal Ministry of <span style = 'background-color:rgba(0,256,0,1.0)'>Health</span> in Nigeria has been placed on alert and has heightened screening measures at the points of entry. In <span style = 'background-color:rgba(0,256,0,0.7611955834170785)'>China</span>, exit screening measures have been enhanced for <span style = 'background-color:rgba(0,256,0,0.7361658066808981)'>travel</span>lers from <span style = 'background-color:rgba(0,256,0,0.800783071496985)'>Wuhan</span> city at the Points of Entry (PoE) (airports and ground transport stations) since the 14th of January 2020. This includes temperature checks, combined with provision of information and masks to passengers with fever, as well as directing symptomatic passengers to <span style = 'background-color:rgba(0,256,0,0.6758141463540135)'>health</span> facilities for follow up.Nigerians are advised to remain calm. Travelers from Nigeria to <span style = 'background-color:rgba(0,256,0,0.800783071496985)'>Wuhan</span>, <span style = 'background-color:rgba(0,256,0,0.7611955834170785)'>China</span>, are advised to avoid contact with sick people, <span style = 'background-color:rgba(256,0,0,0.03222943722103061)'>animals</span> (alive or dead), and animal markets.Travelers from <span style = 'background-color:rgba(0,256,0,0.800783071496985)'>Wuhan</span> to Nigeria, may be asked questions upon arrival by the Port <span style = 'background-color:rgba(0,256,0,1.0)'>Health</span> Services unit at points of entry about symptoms of illness and <span style = 'background-color:rgba(0,256,0,0.7361658066808981)'>travel</span> history, and are advised to report immediately to <span style = 'background-color:rgba(256,0,0,0.07701216127655963)'>NCDC</span>, if they feel ill after a trip to <span style = 'background-color:rgba(0,256,0,0.800783071496985)'>Wuhan</span>.The Federal Ministry of <span style = 'background-color:rgba(0,256,0,1.0)'>Health</span> through <span style = 'background-color:rgba(256,0,0,0.07701216127655963)'>NCDC</span> and its partners are fully committed to strengthening our preparedness and response to infectious disease outbreaks.Information will be shared with the public as it becomes available. HOW TO PROTECT YOURSELF To reduce the risk of spread of coronavirus, members of the public are advised to adhere to the following measures:• Wash your hands regularly with soap under running water• Cover your mouth and nose properly with handkerchief or tissue paper when sneezing and/or coughing. You may also cough into your elbow if a handkerchief is not available.• Avoid close contact with anyone showing symptoms of respiratory illness such as coughing and sneezing• Avoid self-medication, report to the nearest <span style = 'background-color:rgba(0,256,0,0.6758141463540135)'>health</span> facility when you experience any of the above-mentioned symptoms• <span style = 'background-color:rgba(0,256,0,1.0)'>Health</span>care workers are always advised to observe standard infection prevention and control measures when attending to patients and take a <span style = 'background-color:rgba(0,256,0,0.7361658066808981)'>travel</span> history.As the situation is evolving, this <span style = 'background-color:rgba(256,0,0,0.05032594238306667)'>advisory</span> will be updated as more information becomes available.</div>"
            ]
          },
          "metadata": {}
        }
      ]
    },
    {
      "cell_type": "code",
      "source": [
        "# explain the most representative false positive fit \n",
        "# predicted by the model\n",
        "most_representative_false_positive_fit_explanation = lime_explainer.explain_instance(\n",
        "    most_representative_false_positive_fit,\n",
        "    loaded_classifier_pipeline.predict_proba\n",
        "  )\n",
        "\n",
        "display_explanation_factors(\n",
        "    most_representative_false_positive_fit_explanation,\n",
        "    \"Most Representative False Positive Prediction Explanation\",\n",
        "    round(probability_most_representative_false_positive_fit, 2)\n",
        "  )\n",
        "\n",
        "print_explanation_text_HTML(\n",
        "    most_representative_false_positive_fit_explanation,\n",
        "    most_representative_false_positive_fit\n",
        "  )"
      ],
      "metadata": {
        "colab": {
          "base_uri": "https://localhost:8080/",
          "height": 609
        },
        "id": "NMKP3vXBe7pi",
        "outputId": "fb69de02-c91b-40f3-ced7-8d684b7c53d0"
      },
      "execution_count": 21,
      "outputs": [
        {
          "output_type": "display_data",
          "data": {
            "text/plain": [
              "<IPython.core.display.HTML object>"
            ],
            "text/html": [
              "\n",
              "  <style>\n",
              "    pre {\n",
              "        white-space: pre-wrap;\n",
              "    }\n",
              "  </style>\n",
              "  "
            ]
          },
          "metadata": {}
        },
        {
          "output_type": "display_data",
          "data": {
            "text/plain": [
              "<Figure size 432x288 with 1 Axes>"
            ],
            "image/png": "[encoded data removed]"
          },
          "metadata": {
            "needs_background": "light"
          }
        },
        {
          "output_type": "display_data",
          "data": {
            "text/plain": [
              "<IPython.core.display.HTML object>"
            ],
            "text/html": [
              "<div>Mississippi <span style = 'background-color:rgba(256,0,0,0.15205933077520198)'>man</span> recovering at home after 21 <span style = 'background-color:rgba(256,0,0,0.13841346254679351)'>days</span> on a <span style = 'background-color:rgba(256,0,0,0.3626482142636504)'>ventilator</span> due to <span style = 'background-color:rgba(256,0,0,1.0)'>COVID</span>-19 A Pearl River County <span style = 'background-color:rgba(256,0,0,0.15205933077520198)'>man</span> is recovering at home after spending three weeks on a <span style = 'background-color:rgba(256,0,0,0.3626482142636504)'>ventilator</span> due to <span style = 'background-color:rgba(256,0,0,1.0)'>COVID</span>-19. Doctors didn’t believe there was much chance for survival, but the <span style = 'background-color:rgba(256,0,0,0.15205933077520198)'>man</span> and his family never gave up hope.\n",
              "After 21 <span style = 'background-color:rgba(256,0,0,0.13841346254679351)'>days</span> on a <span style = 'background-color:rgba(256,0,0,0.3626482142636504)'>ventilator</span>, Joey Collum was wheeled out of a Hattiesburg <span style = 'background-color:rgba(0,256,0,0.10832025888840403)'>hospital</span>.\n",
              "“Lord. I don’t even <span style = 'background-color:rgba(256,0,0,0.11795597008245622)'>know</span> how to put that into words,” Collum said. “I knew then I was way more blessed than I ever thought I was.”\n",
              "Emergency responders escorted Collum and his wife Datia from the <span style = 'background-color:rgba(0,256,0,0.10832025888840403)'>hospital</span> to their church where a welcome committee awaited.\n",
              "“They had their sirens going down the highway and he was just crying. He was just crying. Because he made it. He made it,” Datia said.\n",
              "Datia says, according to <span style = 'background-color:rgba(0,256,0,0.13063735108371033)'>doctors</span>, the odds were against him. The 62-year-old Mississippi <span style = 'background-color:rgba(256,0,0,0.15205933077520198)'>man</span> has pre-existing conditions and hadn't fully recovered from a recent bout in the <span style = 'background-color:rgba(0,256,0,0.10832025888840403)'>hospital</span>.\n",
              "\"The <span style = 'background-color:rgba(0,256,0,0.13063735108371033)'>doctors</span> weren't giving me a whole lot of hope. They were already basically preparing me for the worst,\" Datia explained. \"The virus just basically tore his lungs up.\"\n",
              "Joey first showed symptoms, March 22. By the 27, he was in the <span style = 'background-color:rgba(0,256,0,0.10832025888840403)'>hospital</span> with pneumonia. The next day, Joey’s test came back positive for <span style = 'background-color:rgba(256,0,0,1.0)'>COVID</span>-19. His condition had deteriorated and he was flown to a <span style = 'background-color:rgba(0,256,0,0.10832025888840403)'>hospital</span> in Hattiesburg where he only got worse.\n",
              "“He was in such bad condition. I got the phone call after they intubated him which means that the last <span style = 'background-color:rgba(256,0,0,0.1187566533745763)'>time</span> I talked to him would’ve been the last <span style = 'background-color:rgba(256,0,0,0.1187566533745763)'>time</span> that I talked to him had anything happened. So, I was just feeling a little lost,” Datia choked back tears. “I’m sorry.”\n",
              "When <span style = 'background-color:rgba(0,256,0,0.13063735108371033)'>doctors</span> put Joey on a <span style = 'background-color:rgba(256,0,0,0.3626482142636504)'>ventilator</span>, Datia did research on mortality rates for <span style = 'background-color:rgba(256,0,0,1.0)'>COVID</span> patients, looking for hope but finding very little.\n",
              "A new study published in the Journal of the American Medical Association indicates nine out of 10 <span style = 'background-color:rgba(256,0,0,1.0)'>COVID</span> patients put on <span style = 'background-color:rgba(256,0,0,0.3626482142636504)'>ventilator</span>s do not survive. The study examined the outcomes of 2,600 patients in the New York City area.\n",
              "Doctors say, the longer a patient is on one, the less chance for survival. <span style = 'background-color:rgba(256,0,0,0.11496103699100159)'>Ventilators</span> help a patient breathe but do not offer a solution. They solely provide support until the body is well enough to breathe on its own or until other treatments prove successful.\n",
              "\"It was scary. It was really scary because he almost didn't make it,\" Datia said.\n",
              "For <span style = 'background-color:rgba(256,0,0,0.13841346254679351)'>days</span>, Datia waited for good news, but it didn't come. She tried to stay busy and stay strong for her family. Often<span style = 'background-color:rgba(256,0,0,0.1187566533745763)'>time</span>s, Datia says she found herself outside, singing and talking to her <span style = 'background-color:rgba(256,0,0,0.3206293827455645)'>God</span>.\n",
              "\"If it was his <span style = 'background-color:rgba(256,0,0,0.1187566533745763)'>time</span> to go, then <span style = 'background-color:rgba(256,0,0,0.3206293827455645)'>God</span> <span style = 'background-color:rgba(256,0,0,0.11795597008245622)'>know</span>s better than me what plan he had. I was able to keep my faith just because of the relationship I have with <span style = 'background-color:rgba(256,0,0,0.3206293827455645)'>God</span> and that he has our best interest in mind and I just had to trust him and believe that,\" explained Datia.\n",
              "It wasn't. Joey began to improve and <span style = 'background-color:rgba(0,256,0,0.13063735108371033)'>doctors</span> took him off a <span style = 'background-color:rgba(256,0,0,0.3626482142636504)'>ventilator</span>.\n",
              "“21 <span style = 'background-color:rgba(256,0,0,0.13841346254679351)'>days</span>. I didn’t even <span style = 'background-color:rgba(256,0,0,0.11795597008245622)'>know</span> I was alive,” Joey said.\n",
              "Once Joey awoke from sedation and started responding, Datia knew her husband would recover.\n",
              "\"It was a very weak and a very frail voice but he told me he loved me and it was perfect. It might've been weak but it was perfect,\" recalled Datia.\n",
              "Still celebrating but exhausted from the homecoming, the Collums believe it would have never happened without their faith.\n",
              "“We had a lot of people praying and so I really believe that those prayers were heard,” Datia said. “And he’s home.”\n",
              "\"I <span style = 'background-color:rgba(256,0,0,0.11795597008245622)'>know</span> my <span style = 'background-color:rgba(256,0,0,0.3206293827455645)'>God</span> never let my hand go,\" Joey said.\n",
              "Joey is still recovering. He doesn’t have his voice back, completely, and there are sores on his face from the glue that held the intubation tube in place.\n",
              "Copyright 2020 WVUE. All rights reserved.</div>"
            ]
          },
          "metadata": {}
        }
      ]
    },
    {
      "cell_type": "code",
      "source": [
        "# explain the most representative false negative fit \n",
        "# predicted by the model\n",
        "most_representative_false_negative_fit_explanation = lime_explainer.explain_instance(\n",
        "    most_representative_false_negative_fit,\n",
        "    loaded_classifier_pipeline.predict_proba\n",
        "  )\n",
        "\n",
        "display_explanation_factors(\n",
        "    most_representative_false_negative_fit_explanation,\n",
        "    \"Most Representative False Negative Prediction Explanation\",\n",
        "    round(probability_most_representative_false_negative_fit, 2)\n",
        "  )\n",
        "\n",
        "print_explanation_text_HTML(\n",
        "    most_representative_false_negative_fit_explanation,\n",
        "    most_representative_false_negative_fit\n",
        "  )"
      ],
      "metadata": {
        "colab": {
          "base_uri": "https://localhost:8080/",
          "height": 540
        },
        "id": "TqE4mLBQoLdc",
        "outputId": "6939d904-f068-42c5-9842-2cc7474b6ec8"
      },
      "execution_count": 22,
      "outputs": [
        {
          "output_type": "display_data",
          "data": {
            "text/plain": [
              "<IPython.core.display.HTML object>"
            ],
            "text/html": [
              "\n",
              "  <style>\n",
              "    pre {\n",
              "        white-space: pre-wrap;\n",
              "    }\n",
              "  </style>\n",
              "  "
            ]
          },
          "metadata": {}
        },
        {
          "output_type": "display_data",
          "data": {
            "text/plain": [
              "<Figure size 432x288 with 1 Axes>"
            ],
            "image/png": "[encoded data removed]"
          },
          "metadata": {
            "needs_background": "light"
          }
        },
        {
          "output_type": "display_data",
          "data": {
            "text/plain": [
              "<IPython.core.display.HTML object>"
            ],
            "text/html": [
              "<div>Govt reviews preparedness at highest level to manage Corona Virus in <span style = 'background-color:rgba(0,256,0,0.24799531384153967)'>country</span> A Group of <span style = 'background-color:rgba(0,256,0,1.0)'>Minister</span>s met in New Delhi yesterday to review the preparedness and steps taken by the Ministries of <span style = 'background-color:rgba(0,256,0,0.4674754626549915)'>Health</span>, Shipping, <span style = 'background-color:rgba(256,0,0,0.07089994945505672)'>External</span> <span style = 'background-color:rgba(256,0,0,0.10821134367453265)'>Affairs</span>, Civil Aviation and Home <span style = 'background-color:rgba(256,0,0,0.10821134367453265)'>Affairs</span> regarding management of <span style = 'background-color:rgba(0,256,0,0.2501864050523106)'>Novel</span> Coronavirus in the <span style = 'background-color:rgba(0,256,0,0.24799531384153967)'>country</span>. The meeting was chaired by the <span style = 'background-color:rgba(0,256,0,0.4674754626549915)'>Health</span> <span style = 'background-color:rgba(0,256,0,1.0)'>Minister</span> Dr Harsh Vardhan. The group, which has been constituted on the directions of Prime <span style = 'background-color:rgba(0,256,0,1.0)'>Minister</span> Narendra Modi, comprises of <span style = 'background-color:rgba(0,256,0,0.4674754626549915)'>Health</span> <span style = 'background-color:rgba(0,256,0,1.0)'>Minister</span> Dr. Harsh Vardhan, Civil Aviation <span style = 'background-color:rgba(0,256,0,1.0)'>Minister</span> Hardeep Puri, <span style = 'background-color:rgba(256,0,0,0.07089994945505672)'>External</span> <span style = 'background-color:rgba(256,0,0,0.10821134367453265)'>Affairs</span> <span style = 'background-color:rgba(0,256,0,1.0)'>Minister</span> S Jaishankar, <span style = 'background-color:rgba(0,256,0,1.0)'>Minister</span> of State for Home G Kishan Reddy, <span style = 'background-color:rgba(0,256,0,1.0)'>Minister</span> of State for <span style = 'background-color:rgba(0,256,0,0.4674754626549915)'>Health</span> Ashwini Kumar Choubey and Shipping <span style = 'background-color:rgba(0,256,0,1.0)'>Minister</span> Mansukh Lal Mandaviya. A presentation of the status of the NCOV-2019 was made to the GoM. The members were also apprised of the three cases reported from Kerala, one of which was confirmed yesterday. The preventive steps and measures taken for management of spread of <span style = 'background-color:rgba(0,256,0,0.2501864050523106)'>Novel</span> Coronavirus in <span style = 'background-color:rgba(256,0,0,0.0866909613038137)'>India</span> were presented, which included information about the revised <span style = 'background-color:rgba(0,256,0,0.5130573780554523)'>travel</span> advisories issued on Sunday regarding the temporary suspension of the e-visa facilities. The Advisory has been revised informing the public to refrain from <span style = 'background-color:rgba(0,256,0,0.5130573780554523)'>travel</span> to <span style = 'background-color:rgba(0,256,0,0.4341490153075304)'>China</span> and that anyone with <span style = 'background-color:rgba(0,256,0,0.5130573780554523)'>travel</span> history to <span style = 'background-color:rgba(0,256,0,0.4341490153075304)'>China</span> since the 15th of last month and from now on could be quarantined. Further, e-Visa facility for Chinese passport holders has been temporarily suspended, e-Visa already issued to Chinese nationals is also not valid temporarily and the facility for submitting the application online for the physical visa from <span style = 'background-color:rgba(0,256,0,0.4341490153075304)'>China</span> is suspended. It has also been advised that people having compelling reasons to visit <span style = 'background-color:rgba(256,0,0,0.0866909613038137)'>India</span> should contact the <span style = 'background-color:rgba(256,0,0,0.0866909613038137)'>India</span>n <span style = 'background-color:rgba(0,256,0,0.261639031579325)'>embassy</span> in Beijing or consulate in Shanghai or Guangzhou. Instructions to comply with above <span style = 'background-color:rgba(0,256,0,0.5130573780554523)'>travel</span> advisory have also been issued to all national and international airlines operating from <span style = 'background-color:rgba(0,256,0,0.4341490153075304)'>China</span> by the Ministry of Civil Aviation. The GoM was also briefed that a total of 593 flights have been screened covering a total of 72,353 passengers. Screening of passengers is ongoing in 21 airports, international seaports and border crossings particularly with Nepal. Universal screening in all flights from Singapore and Thailand besides Hong Kong and <span style = 'background-color:rgba(0,256,0,0.4341490153075304)'>China</span> is being done. Further, 2,815 people are presently under community surveillance in 29 States and Union Territories. Out of a total of 338 samples sent for testing, 335 have been found to be negative, three are positive, while 70 others are being processed. Principal Secretary to Prime <span style = 'background-color:rgba(0,256,0,1.0)'>Minister</span> PK Mishra also reviewed the situation relating to <span style = 'background-color:rgba(0,256,0,0.2501864050523106)'>Novel</span> Corona Virus in the <span style = 'background-color:rgba(0,256,0,0.24799531384153967)'>country</span> and the arrangements for approximately 600 evacuees. National Security Adviser Ajit Doval, Principal Adviser to Prime <span style = 'background-color:rgba(0,256,0,1.0)'>Minister</span> PK Sinha, Cabinet Secretary Rajiv Gauba, Chief of Defence Staff General Bipin Rawat and secretaries of other relevant ministries were also present.</div>"
            ]
          },
          "metadata": {}
        }
      ]
    },
    {
      "cell_type": "code",
      "source": [
        "# explain the most representative closest to decision boundary \n",
        "# predicted by the model\n",
        "most_representative_closest_to_decision_boundary_explanation = lime_explainer.explain_instance(\n",
        "    most_representative_closest_to_decision_boundary,\n",
        "    loaded_classifier_pipeline.predict_proba\n",
        "  )\n",
        "\n",
        "display_explanation_factors(\n",
        "    most_representative_closest_to_decision_boundary_explanation,\n",
        "    \"Most Representative Closest to Decision Boundrary Explanation\",\n",
        "    round(probability_most_representative_closest_to_decision_boundary, 2)\n",
        "  )\n",
        "\n",
        "print_explanation_text_HTML(\n",
        "    most_representative_closest_to_decision_boundary_explanation,\n",
        "    most_representative_closest_to_decision_boundary\n",
        "  )"
      ],
      "metadata": {
        "colab": {
          "base_uri": "https://localhost:8080/",
          "height": 609
        },
        "id": "5QTNX0_FqrcT",
        "outputId": "6d7032c5-a8f9-49b7-c10d-f8f28a4fb610"
      },
      "execution_count": 23,
      "outputs": [
        {
          "output_type": "display_data",
          "data": {
            "text/plain": [
              "<IPython.core.display.HTML object>"
            ],
            "text/html": [
              "\n",
              "  <style>\n",
              "    pre {\n",
              "        white-space: pre-wrap;\n",
              "    }\n",
              "  </style>\n",
              "  "
            ]
          },
          "metadata": {}
        },
        {
          "output_type": "display_data",
          "data": {
            "text/plain": [
              "<Figure size 432x288 with 1 Axes>"
            ],
            "image/png": "[encoded data removed]"
          },
          "metadata": {
            "needs_background": "light"
          }
        },
        {
          "output_type": "display_data",
          "data": {
            "text/plain": [
              "<IPython.core.display.HTML object>"
            ],
            "text/html": [
              "<div>Singapore races to build beds for <span style = 'background-color:rgba(256,0,0,1.0)'>COVID</span>-19 <span style = 'background-color:rgba(0,256,0,0.349196857576805)'>patients</span> as cases <span style = 'background-color:rgba(256,0,0,0.04038255675141995)'>surge</span> Singapore is rapidly building bed space for coronavirus <span style = 'background-color:rgba(0,256,0,0.349196857576805)'>patients</span> in cavernous exhibition halls and other temporary facilities as it faces a <span style = 'background-color:rgba(256,0,0,0.04038255675141995)'>surge</span> in cases, mainly among its large community of low-paid migrant <span style = 'background-color:rgba(256,0,0,0.3595693913467729)'>workers</span>.\n",
              "One such facility at Changi Exhibition Center – home to the Singapore Airshow, Asia’s biggest aerospace gathering – could eventually <span style = 'background-color:rgba(256,0,0,0.11349742140379504)'>house</span> over 4,000 <span style = 'background-color:rgba(0,256,0,0.349196857576805)'>patients</span> recovering from the disease and those with mild symptoms.\n",
              "“The entire process of setting up the infrastructure took six days,” Joseph Tan, a member of the organizing committee for the temporary facility, told Reuters on a visit.\n",
              "The tiny city-state of 5.7 million people registered 931 new coronavirus infections, its <span style = 'background-color:rgba(0,256,0,0.3777341315753759)'>health</span> ministry said on Sunday, taking the total number of <span style = 'background-color:rgba(256,0,0,1.0)'>COVID</span>-19 cases to 13,624. The number of new cases rose from 618 reported on Saturday.\n",
              "The vast majority of the new cases are migrant <span style = 'background-color:rgba(256,0,0,0.3595693913467729)'>workers</span> living in <span style = 'background-color:rgba(256,0,0,0.36977689768216315)'>dormitories</span>, the <span style = 'background-color:rgba(0,256,0,0.3777341315753759)'>health</span> ministry said in the statement. Fifteen of the new cases are permanent residents.\n",
              "Singapore now has one of the highest infection rates in Asia, according to official figures, due to outbreaks in cramped <span style = 'background-color:rgba(256,0,0,0.36977689768216315)'>dormitories</span> <span style = 'background-color:rgba(256,0,0,0.10860728160113527)'>housing</span> over 300,000 mainly South Asian <span style = 'background-color:rgba(256,0,0,0.3595693913467729)'>workers</span>.\n",
              "The first <span style = 'background-color:rgba(0,256,0,0.349196857576805)'>patients</span>, mainly from Bangladesh and <span style = 'background-color:rgba(256,0,0,0.018968304603705043)'>India</span>, were moved on Saturday into the vast conference hall, partitioned into rooms for eight to 10 people, with metal beds, plastic storage drawers and fans.\n",
              "Singapore trails only China, <span style = 'background-color:rgba(256,0,0,0.018968304603705043)'>India</span>, Japan and Pakistan in Asia for the number of coronavirus infections. More than 10,000 of those infected, some 80% of its total, are foreign <span style = 'background-color:rgba(256,0,0,0.3595693913467729)'>workers</span>, many of whom have been placed in “<span style = 'background-color:rgba(0,256,0,0.43289650038013927)'>isolation</span> facilities” for people with mild symptoms such as the conference centers.\n",
              "Despite the high total of cases, Singapore has reported 12 deaths and 24 people are in intensive care.\n",
              "Singapore’s young overseas laborers, earning as little as $15 a day, live in <span style = 'background-color:rgba(256,0,0,0.36977689768216315)'>dormitories</span> with bunk-bed accommodation in areas little visited by tourists to the modern city-state. Many are under government-ordered quarantines due to mass outbreaks, with <span style = 'background-color:rgba(256,0,0,0.3595693913467729)'>workers</span> left inside battling a constant fear of catching the virus.\n",
              "At the new Changi <span style = 'background-color:rgba(0,256,0,0.43289650038013927)'>isolation</span> center, each room has blood-pressure monitors and other medical equipment for <span style = 'background-color:rgba(0,256,0,0.349196857576805)'>patients</span> to conduct their own <span style = 'background-color:rgba(0,256,0,0.3777341315753759)'>health</span> checks three times daily, while remote-controlled robots provide meals and teleconferencing services to reduce contact.\n",
              "Authorities are also trialing a four-legged robot dog built by Boston Dynamics at the facility, which they said could be used to deliver medicines to <span style = 'background-color:rgba(0,256,0,0.349196857576805)'>patients</span> or take their temperature.\n",
              "The indoor space can <span style = 'background-color:rgba(256,0,0,0.11349742140379504)'>house</span> 2,700 <span style = 'background-color:rgba(0,256,0,0.349196857576805)'>patients</span>, while an ongoing outdoor extension will add another 1,700 beds. A nearby conference center called EXPO is already <span style = 'background-color:rgba(256,0,0,0.10860728160113527)'>housing</span> hundreds of <span style = 'background-color:rgba(256,0,0,1.0)'>COVID</span>-19 <span style = 'background-color:rgba(0,256,0,0.349196857576805)'>patients</span>.\n",
              "Around 10,000 <span style = 'background-color:rgba(0,256,0,0.3777341315753759)'>health</span>y <span style = 'background-color:rgba(256,0,0,0.3595693913467729)'>workers</span> in essential services have been moved from <span style = 'background-color:rgba(256,0,0,0.36977689768216315)'>dormitories</span> into alternative <span style = 'background-color:rgba(256,0,0,0.10860728160113527)'>housing</span>, including military camps, converted sports halls and accommodation ships for offshore <span style = 'background-color:rgba(256,0,0,0.3595693913467729)'>workers</span>, authorities say.\n",
              "Rows of white huts are also being hurriedly assembled at the Tanjong Pagar shipping-container port. The facility could <span style = 'background-color:rgba(256,0,0,0.11349742140379504)'>house</span> up to 15,000 foreign <span style = 'background-color:rgba(256,0,0,0.3595693913467729)'>workers</span>, local media reported, but authorities have yet to decide how it will be used.\n",
              "“We are continuing to explore additional space for various reasons, including facilities for suspect cases or infected <span style = 'background-color:rgba(256,0,0,0.3595693913467729)'>workers</span>, and also for <span style = 'background-color:rgba(256,0,0,0.3595693913467729)'>workers</span> who are recovering or who have fully recovered,” a spokeswoman for the Ministry of National Development said in an emailed statement, adding that the Tanjong Pagar site was part of that plan.</div>"
            ]
          },
          "metadata": {}
        }
      ]
    }
  ],
  "metadata": {
    "colab": {
      "collapsed_sections": [],
      "name": "COVID_FakeNews_Classifier_TFIDF_Explainability.ipynb",
      "provenance": []
    },
    "kernelspec": {
      "display_name": "Python 3",
      "name": "python3"
    },
    "language_info": {
      "name": "python"
    }
  },
  "nbformat": 4,
  "nbformat_minor": 0
}