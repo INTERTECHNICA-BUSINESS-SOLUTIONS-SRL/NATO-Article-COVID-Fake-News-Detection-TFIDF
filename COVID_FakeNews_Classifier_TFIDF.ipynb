{
  "nbformat": 4,
  "nbformat_minor": 0,
  "metadata": {
    "colab": {
      "name": "COVID_FakeNews_Classifier_TFIDF.ipynb",
      "provenance": [],
      "collapsed_sections": []
    },
    "kernelspec": {
      "name": "python3",
      "display_name": "Python 3"
    },
    "language_info": {
      "name": "python"
    }
  },
  "cells": [
    {
      "cell_type": "code",
      "source": [
        "# install non standard packages\n",
        "!pip install requests_cache"
      ],
      "metadata": {
        "colab": {
          "base_uri": "https://localhost:8080/"
        },
        "id": "QgVOhjCM34A0",
        "outputId": "79d69f64-3452-40bc-a03a-361aea83306b"
      },
      "execution_count": 1,
      "outputs": [
        {
          "output_type": "stream",
          "name": "stdout",
          "text": [
            "Requirement already satisfied: requests_cache in /usr/local/lib/python3.7/dist-packages (0.9.4)\n",
            "Requirement already satisfied: url-normalize<2.0,>=1.4 in /usr/local/lib/python3.7/dist-packages (from requests_cache) (1.4.3)\n",
            "Requirement already satisfied: appdirs<2.0.0,>=1.4.4 in /usr/local/lib/python3.7/dist-packages (from requests_cache) (1.4.4)\n",
            "Requirement already satisfied: urllib3<2.0.0,>=1.25.5 in /usr/local/lib/python3.7/dist-packages (from requests_cache) (1.25.11)\n",
            "Requirement already satisfied: requests<3.0,>=2.22 in /usr/local/lib/python3.7/dist-packages (from requests_cache) (2.23.0)\n",
            "Requirement already satisfied: attrs<22.0,>=21.2 in /usr/local/lib/python3.7/dist-packages (from requests_cache) (21.4.0)\n",
            "Requirement already satisfied: cattrs<2.0,>=1.8 in /usr/local/lib/python3.7/dist-packages (from requests_cache) (1.10.0)\n",
            "Requirement already satisfied: typing_extensions in /usr/local/lib/python3.7/dist-packages (from cattrs<2.0,>=1.8->requests_cache) (4.2.0)\n",
            "Requirement already satisfied: idna<3,>=2.5 in /usr/local/lib/python3.7/dist-packages (from requests<3.0,>=2.22->requests_cache) (2.10)\n",
            "Requirement already satisfied: chardet<4,>=3.0.2 in /usr/local/lib/python3.7/dist-packages (from requests<3.0,>=2.22->requests_cache) (3.0.4)\n",
            "Requirement already satisfied: certifi>=2017.4.17 in /usr/local/lib/python3.7/dist-packages (from requests<3.0,>=2.22->requests_cache) (2021.10.8)\n",
            "Requirement already satisfied: six in /usr/local/lib/python3.7/dist-packages (from url-normalize<2.0,>=1.4->requests_cache) (1.15.0)\n"
          ]
        }
      ]
    },
    {
      "cell_type": "code",
      "metadata": {
        "id": "56P_0PHrRWeq"
      },
      "source": [
        "# import standard libraries\n",
        "import io\n",
        "import zipfile\n",
        "import requests as rq\n",
        "import requests_cache as rqc\n",
        "import numpy as np\n",
        "import pandas as pd\n",
        "import matplotlib.pyplot as plt\n",
        "\n",
        "# import sklearn related libraries\n",
        "from sklearn.model_selection import train_test_split\n",
        "\n",
        "from sklearn.svm import SVC\n",
        "from sklearn.metrics import classification_report, RocCurveDisplay\n",
        "\n",
        "from sklearn.feature_extraction.text import TfidfVectorizer\n",
        "\n",
        "from sklearn.base import BaseEstimator, TransformerMixin\n",
        "from sklearn.pipeline import Pipeline, make_pipeline\n",
        "\n",
        "# import imblearn to hanlde imbalances in the dataset\n",
        "from imblearn.over_sampling import RandomOverSampler\n",
        "\n",
        "# import data visualization tools\n",
        "import seaborn as sns\n",
        "\n",
        "# import text processing tools\n",
        "import spacy\n",
        "from nltk.stem import SnowballStemmer\n",
        "import re\n",
        "\n",
        "# import persistence support\n",
        "from joblib import dump, load"
      ],
      "execution_count": 2,
      "outputs": []
    },
    {
      "cell_type": "code",
      "metadata": {
        "id": "Wr4g9gNYOhxn"
      },
      "source": [
        "# ensure reproducible results\n",
        "rand_state = 1234"
      ],
      "execution_count": 3,
      "outputs": []
    },
    {
      "cell_type": "markdown",
      "source": [
        "# Raw Data Acquisition"
      ],
      "metadata": {
        "id": "oWF-jHmzNQ5j"
      }
    },
    {
      "cell_type": "markdown",
      "source": [
        "This section focuses on acquiring raw data so we retain only the relevant data and ensure dataset balance."
      ],
      "metadata": {
        "id": "gfsfenKJNcOl"
      }
    },
    {
      "cell_type": "markdown",
      "source": [
        "Acquire raw data and ensure basic formatting."
      ],
      "metadata": {
        "id": "2_7U9hZywrmL"
      }
    },
    {
      "cell_type": "code",
      "source": [
        "# get the data file\n",
        "URL = \"https://github.com/INTERTECHNICA-BUSINESS-SOLUTIONS-SRL/NATO-COVID-Fake-News-Detection-TFIDF/raw/main/data/COVIDFakeNewsProcessedData.zip\"\n",
        "response = rqc.CachedSession().get(URL)\n",
        "binary_data = io.BytesIO(response.content)"
      ],
      "metadata": {
        "id": "0DGG6HiO3ry5"
      },
      "execution_count": 4,
      "outputs": []
    },
    {
      "cell_type": "code",
      "source": [
        "# read the dataframe\n",
        "FILE_NAME = \"./COVIDFakeNewsProcessedData.csv\"\n",
        "\n",
        "raw_data = None\n",
        "with zipfile.ZipFile(binary_data) as z:\n",
        "   with z.open(FILE_NAME) as f:\n",
        "     raw_data = pd.read_csv(f, index_col=None);"
      ],
      "metadata": {
        "id": "eEypttYcMDEz"
      },
      "execution_count": 5,
      "outputs": []
    },
    {
      "cell_type": "code",
      "source": [
        "# preserve only the relevant data columns\n",
        "# we will process it later on for classification purpose\n",
        "COLUMNS = [\"content\", \"binary_target\"]\n",
        "relevant_data_columns = raw_data.drop(raw_data.columns.difference(COLUMNS), axis=1)"
      ],
      "metadata": {
        "id": "WuGW6ZAxMAMk"
      },
      "execution_count": 6,
      "outputs": []
    },
    {
      "cell_type": "markdown",
      "source": [
        "One of the first things we need to use is to determine if the content length of the records is relatively uniform. The content length data is actually highlight right skewed, having a relatively small number of records with a high content length."
      ],
      "metadata": {
        "id": "_pjdk7O0cuM-"
      }
    },
    {
      "cell_type": "code",
      "source": [
        "# extract content length data\n",
        "content_length_data = relevant_data_columns[\"content\"].apply(lambda x: len(x))"
      ],
      "metadata": {
        "id": "8UEmS7FzSzqp"
      },
      "execution_count": 7,
      "outputs": []
    },
    {
      "cell_type": "code",
      "source": [
        "# display the histogram of content length\n",
        "plt.figure(figsize=(5, 5))\n",
        "plt.subplot2grid(shape=(1,1), loc=(0,0))\n",
        "rel = sns.histplot(\n",
        "    data=content_length_data,\n",
        "    kde=True,\n",
        "    color = \"darkred\",\n",
        "    bins = 50\n",
        "  )\n",
        "rel.set_title('Fake News Dataset Record Lenghth')\n",
        "rel.set_xlabel(\"Record Length\")\n",
        "plt.show()"
      ],
      "metadata": {
        "colab": {
          "base_uri": "https://localhost:8080/",
          "height": 350
        },
        "id": "oeGN2L1lS9V9",
        "outputId": "af82bed9-5f84-4b36-cfbc-be9457d48c1e"
      },
      "execution_count": 8,
      "outputs": [
        {
          "output_type": "display_data",
          "data": {
            "text/plain": [
              "<Figure size 360x360 with 1 Axes>"
            ],
            "image/png": "[encoded data removed]"
          },
          "metadata": {
            "needs_background": "light"
          }
        }
      ]
    },
    {
      "cell_type": "markdown",
      "source": [
        "In order to ensure a better classification we need to eliminate the records that are:\n",
        "\n",
        "\n",
        "*   Very short: so they are uninformative;\n",
        "*   Very large: so multiple topics may be mingled together and generating too much complexity. \n",
        "\n",
        "We will use the records having the content length between the 1st and 9th decile.\n"
      ],
      "metadata": {
        "id": "EGip-rVig6zm"
      }
    },
    {
      "cell_type": "code",
      "source": [
        "# eliminate outliers represented by very short or very long texts\n",
        "# we will keep the texts within 1-st and 9-th decile\n",
        "q_10_perc = content_length_data.quantile(0.1)\n",
        "q_90_perc = content_length_data.quantile(0.9)\n",
        "\n",
        "index_relevant_data = content_length_data[\n",
        "                              (content_length_data > q_10_perc) & \n",
        "                              (content_length_data < q_90_perc)\n",
        "                      ].index\n",
        "\n",
        "relevant_data = relevant_data_columns.loc[index_relevant_data].reset_index(drop = True)"
      ],
      "metadata": {
        "id": "Uph2cx5BdNjp"
      },
      "execution_count": 9,
      "outputs": []
    },
    {
      "cell_type": "markdown",
      "source": [
        "Check if the dataset is balanced, otherwise try to balance it."
      ],
      "metadata": {
        "id": "Z38ls6rEwfU2"
      }
    },
    {
      "cell_type": "code",
      "source": [
        "def plot_dataset_balance(data) :\n",
        "  \"\"\"\n",
        "  Plots the distribution of unique values in data.\n",
        "  Parameters\n",
        "  ----------\n",
        "    data : array\n",
        "      The data to be inspected\n",
        "  \"\"\"\n",
        "  plot_labels = np.unique(data);\n",
        "  plot_values = np.bincount(data)\n",
        "  \n",
        "\n",
        "  plt.figure(figsize=(5, 5))\n",
        "  plt.subplot2grid(shape=(1,1), loc=(0,0))\n",
        "  fig = sns.barplot(\n",
        "      [\"Veridic News\", \"Fake News\"], \n",
        "      plot_values,\n",
        "      palette = ['darkgreen', 'darkred']\n",
        "    )\n",
        "  fig.set_title('Veridic and Fake Dataset Distribution')\n",
        "  plt.show()"
      ],
      "metadata": {
        "id": "NoBkt195xLRl"
      },
      "execution_count": 10,
      "outputs": []
    },
    {
      "cell_type": "code",
      "metadata": {
        "id": "fFfJpp3oK4SA",
        "colab": {
          "base_uri": "https://localhost:8080/",
          "height": 408
        },
        "outputId": "6cd28eca-d832-42ab-bbd8-9556bf442b64"
      },
      "source": [
        "# determine if the set is balanced apriori\n",
        "plot_dataset_balance(relevant_data[\"binary_target\"].to_numpy())\n",
        "print(\"The dataset is imbalanced, the number of fake news is roughly half of the veridic news\")"
      ],
      "execution_count": 11,
      "outputs": [
        {
          "output_type": "stream",
          "name": "stderr",
          "text": [
            "/usr/local/lib/python3.7/dist-packages/seaborn/_decorators.py:43: FutureWarning: Pass the following variables as keyword args: x, y. From version 0.12, the only valid positional argument will be `data`, and passing other arguments without an explicit keyword will result in an error or misinterpretation.\n",
            "  FutureWarning\n"
          ]
        },
        {
          "output_type": "display_data",
          "data": {
            "text/plain": [
              "<Figure size 360x360 with 1 Axes>"
            ],
            "image/png": "[encoded data removed]"
          },
          "metadata": {
            "needs_background": "light"
          }
        },
        {
          "output_type": "stream",
          "name": "stdout",
          "text": [
            "The dataset is imbalanced, the number of fake news is roughly half of the veridic news\n"
          ]
        }
      ]
    },
    {
      "cell_type": "code",
      "metadata": {
        "id": "h7z10ZR9D7K4"
      },
      "source": [
        "# we are dealing with an imbalaced dataset\n",
        "# thus we will choose to oversample the minority class (fake news)\n",
        "oversampler = RandomOverSampler(sampling_strategy = \"minority\", random_state = rand_state);\n",
        "sampling_labels = relevant_data[\"binary_target\"];\n",
        "train_data_resampled, _ = oversampler.fit_resample(relevant_data, sampling_labels);"
      ],
      "execution_count": 12,
      "outputs": []
    },
    {
      "cell_type": "markdown",
      "source": [
        "# Datasets creation"
      ],
      "metadata": {
        "id": "QlvV17ksNpZM"
      }
    },
    {
      "cell_type": "markdown",
      "source": [
        "At this point, after oversampling, it will be necessary to split the training and test data. First of all we will extract the features and the target information."
      ],
      "metadata": {
        "id": "IGepZVCB4vIr"
      }
    },
    {
      "cell_type": "code",
      "source": [
        "# extract features and labels vectors\n",
        "X = train_data_resampled[\"content\"].values;\n",
        "Y = train_data_resampled[\"binary_target\"].values;"
      ],
      "metadata": {
        "id": "670Ha18vxwnv"
      },
      "execution_count": 13,
      "outputs": []
    },
    {
      "cell_type": "markdown",
      "source": [
        "We will proceed with splitting the dataset into training and testing data."
      ],
      "metadata": {
        "id": "ggOnsO-P5lgS"
      }
    },
    {
      "cell_type": "code",
      "metadata": {
        "id": "R-Pq4wUlvENV"
      },
      "source": [
        "# we will split the training and test data set\n",
        "X_train, X_test, Y_train, Y_test = train_test_split(X, Y, test_size = 0.2, stratify = Y, random_state = rand_state) "
      ],
      "execution_count": 14,
      "outputs": []
    },
    {
      "cell_type": "markdown",
      "source": [
        "The training and testing datasets will be saved for further usage."
      ],
      "metadata": {
        "id": "lnTo_gCd598H"
      }
    },
    {
      "cell_type": "code",
      "source": [
        "# save all the data sets in a compressed format\n",
        "DATASETS_FILE = \"datasets.npz\"\n",
        "np.savez_compressed (\n",
        "    DATASETS_FILE,\n",
        "    X_train = X_train,\n",
        "    X_test = X_test,\n",
        "    Y_train = Y_train,\n",
        "    Y_test = Y_test\n",
        "  )"
      ],
      "metadata": {
        "id": "E4sjVG836W2p"
      },
      "execution_count": 15,
      "outputs": []
    },
    {
      "cell_type": "markdown",
      "source": [
        "We will process the data to ensure it has a proper format for machine learning."
      ],
      "metadata": {
        "id": "GE-OMjVqN7Fy"
      }
    },
    {
      "cell_type": "markdown",
      "source": [
        "First of all we need to define a custom transformer that ensures tokenization of the content and removal of superfluous information."
      ],
      "metadata": {
        "id": "7mFzMPrctxxz"
      }
    },
    {
      "cell_type": "code",
      "source": [
        "class TokenizationTransformer (BaseEstimator, TransformerMixin) :\n",
        "  \"\"\"\n",
        "  Transformer that ensures processing of input text, mostly:\n",
        "\n",
        "  * Tokenization and stemming of input text\n",
        "  * Removal of superfluous information such as punctuation\n",
        "    or stop words \n",
        "  \"\"\"\n",
        "\n",
        "  def __init__(self, nlp_support, custom_stop_words_tokens) :\n",
        "    \"\"\"\n",
        "    Parameters\n",
        "    ----------\n",
        "      nlp_support : Object\n",
        "          NLP support (usually based on Spacy)\n",
        "      custom_stop_words_tokens : [str]\n",
        "          A collection of custom tokens\n",
        "    \"\"\"\n",
        "    super().__init__()\n",
        "    self.nlp_support = nlp_support;\n",
        "    self.covid_19_regexp = r\"-19\";    \n",
        "    self.covid_regexp = r\"covid\";\n",
        "    self.number_regexp = r\"[0-9]+\";\n",
        "    self.stemmer = SnowballStemmer(\"english\");\n",
        "    self.custom_stop_words_tokens = custom_stop_words_tokens;\n",
        "\n",
        "\n",
        "  def is_valid(self, token) :\n",
        "    \"\"\"\n",
        "    Checks if a token is valid\n",
        "    Parameters\n",
        "    ----------\n",
        "      token : str\n",
        "          The token checked for validity\n",
        "\n",
        "    Returns\n",
        "    -------\n",
        "    bool\n",
        "        TRUE if the token is valid, otherwise FALSE          \n",
        "    \"\"\"\n",
        "    # remove tokens based on their syntatic information \n",
        "    is_invalid = token.is_stop or \\\n",
        "      token.is_punct or \\\n",
        "      token.is_left_punct or \\\n",
        "      token.is_right_punct or \\\n",
        "      token.is_space or \\\n",
        "      token.is_bracket or \\\n",
        "      token.is_quote or \\\n",
        "      token.is_currency or \\\n",
        "      token.like_url or \\\n",
        "      token.like_num or \\\n",
        "      token.like_email;\n",
        "\n",
        "    return not is_invalid;\n",
        "\n",
        "  def prepare(self, text) :\n",
        "    \"\"\"\n",
        "    Prepares a token for machine learning processing\n",
        "    Parameters\n",
        "    ----------\n",
        "      text : str\n",
        "          The token's text to be prepared, performing validation as well\n",
        "\n",
        "    Returns\n",
        "    -------\n",
        "    str\n",
        "        The prepared text, None if token is invalid          \n",
        "    \"\"\"    \n",
        "    prepared_text = text.strip();  \n",
        "    prepared_text = prepared_text.lower();\n",
        "    prepared_text = re.sub(self.covid_19_regexp, \"\", prepared_text);\n",
        "    prepared_text = re.sub(self.number_regexp, \"\", prepared_text);\n",
        "    prepared_text = self.stemmer.stem(prepared_text);\n",
        "    \n",
        "    if (len(prepared_text) == 0) :\n",
        "      return None;\n",
        "\n",
        "    if (prepared_text in self.custom_stop_words_tokens):\n",
        "      return None;  \n",
        "\n",
        "    return prepared_text;\n",
        "\n",
        "  def fit(self, X, Y=None) :\n",
        "    return self;\n",
        "\n",
        "  def transform(self, X, Y = None) :\n",
        "    \n",
        "    data_size = 0\n",
        "    \n",
        "    if (type(X) == np.ndarray) :\n",
        "      data_size = X.shape[0]\n",
        "    else:  \n",
        "      data_size = len(X)\n",
        "\n",
        "    tokens_text_processed_joined = np.repeat(None, data_size);\n",
        "\n",
        "    for i in range(0, data_size) :\n",
        "      tokens = self.nlp_support(X[i]);\n",
        "      tokens_text = [];\n",
        "      tokens_text_lemma = [];\n",
        "      tokens_text_pos = [];\n",
        "      tokens_text_processed = [];\n",
        "\n",
        "      for token in tokens:\n",
        "        if (self.is_valid(token)) :\n",
        "          prepared_text = self.prepare(token.text); \n",
        "          if (prepared_text == None) :\n",
        "            continue;\n",
        "          tokens_text_processed = np.append(tokens_text_processed, prepared_text);\n",
        "\n",
        "      tokens_text_processed_joined[i] = \" \".join(tokens_text_processed);\n",
        "\n",
        "    return tokens_text_processed_joined;\n",
        "\n",
        "    def fit_transform(self, X, Y = None) :\n",
        "      return self.fit(X, Y).transform(X, Y)"
      ],
      "metadata": {
        "id": "s-mGK-MaNNHz"
      },
      "execution_count": 16,
      "outputs": []
    },
    {
      "cell_type": "code",
      "source": [
        "# initialize NLP support\n",
        "nlp = spacy.load(\"en_core_web_sm\")\n",
        "\n",
        "# initialize support for stop words\n",
        "STOP_WORDS_DATA_URL = \"https://github.com/INTERTECHNICA-BUSINESS-SOLUTIONS-SRL/NATO-Article-COVID-Fake-News-Detection-TFIDF/raw/main/data/support/stop_words_tokens.csv\"\n",
        "stop_words_raw_data = pd.read_csv(STOP_WORDS_DATA_URL, index_col=None ,header=0);\n",
        "stop_words_data = stop_words_raw_data[\"tokens\"].values;"
      ],
      "metadata": {
        "id": "plntmAMhPJFC"
      },
      "execution_count": 17,
      "outputs": []
    },
    {
      "cell_type": "code",
      "source": [
        "# create the tokenizer transformer\n",
        "tokenizer_transformer = TokenizationTransformer(nlp, stop_words_data)"
      ],
      "metadata": {
        "id": "VsdaW_T2QyOq"
      },
      "execution_count": 18,
      "outputs": []
    },
    {
      "cell_type": "markdown",
      "source": [
        "The textual data will be transformed into TF-IDF features so they can be properly utilized for a machine learning classification algorithm"
      ],
      "metadata": {
        "id": "LeGGfCuELAhY"
      }
    },
    {
      "cell_type": "code",
      "metadata": {
        "id": "hK-ShC91bstV"
      },
      "source": [
        "# create a TF-IDF vectorizer in order to use TF-IDF values\n",
        "# for classification purposes\n",
        "tfidf_vectorizer = TfidfVectorizer(\n",
        "    lowercase=True,\n",
        "    use_idf=True,\n",
        "    norm='l2',\n",
        "    smooth_idf=True\n",
        ")"
      ],
      "execution_count": 19,
      "outputs": []
    },
    {
      "cell_type": "markdown",
      "source": [
        "Based on the generated TF-IDF features we will apply a classification algorithm in order to predict if a story is veridic or false."
      ],
      "metadata": {
        "id": "DjECL8wULkom"
      }
    },
    {
      "cell_type": "code",
      "source": [
        "# create a SVC classifier with lower regularization rate\n",
        "# ensure that it is set up for probability predictions\n",
        "classifier = SVC(random_state=rand_state, C=10, probability=True);"
      ],
      "metadata": {
        "id": "spWog4t8l3lL"
      },
      "execution_count": 20,
      "outputs": []
    },
    {
      "cell_type": "markdown",
      "source": [
        "All the elements specified before will be assemble into a classification pipeline, thus generating a single classifier that will be fit on training data and validated on test data."
      ],
      "metadata": {
        "id": "26glP05gL3h-"
      }
    },
    {
      "cell_type": "code",
      "source": [
        "# create a classification pipeline\n",
        "classifier_pipeline = make_pipeline(\n",
        "    tokenizer_transformer, \n",
        "    tfidf_vectorizer,\n",
        "    classifier\n",
        "  )"
      ],
      "metadata": {
        "id": "-winhq5FoA9D"
      },
      "execution_count": 21,
      "outputs": []
    },
    {
      "cell_type": "code",
      "source": [
        "# train the classifier pipeline\n",
        "classifier_pipeline = classifier_pipeline.fit(X_train, Y_train)"
      ],
      "metadata": {
        "id": "hI4AZu5GTLwP"
      },
      "execution_count": 22,
      "outputs": []
    },
    {
      "cell_type": "markdown",
      "source": [
        "Both the classification report and the ROC-AUC curve analysis confirms that the classifier have very good classification properties.\n",
        "\n",
        "This model is a good candidate for in depth performance anlysis."
      ],
      "metadata": {
        "id": "7roYCSDAoF7Y"
      }
    },
    {
      "cell_type": "code",
      "metadata": {
        "id": "V-7H6RW0v2aY",
        "colab": {
          "base_uri": "https://localhost:8080/"
        },
        "outputId": "5fe1b1ab-834b-4cd5-ba55-e105b256696d"
      },
      "source": [
        "# the classifier holds good results even if not using deep learning techniques\n",
        "# staying in the ~80-90% accuracy / recall values \n",
        "Y_pred = classifier_pipeline.predict(X_test)\n",
        "print(classification_report(Y_test, Y_pred))"
      ],
      "execution_count": 23,
      "outputs": [
        {
          "output_type": "stream",
          "name": "stdout",
          "text": [
            "              precision    recall  f1-score   support\n",
            "\n",
            "           0       0.92      0.90      0.91       328\n",
            "           1       0.90      0.92      0.91       329\n",
            "\n",
            "    accuracy                           0.91       657\n",
            "   macro avg       0.91      0.91      0.91       657\n",
            "weighted avg       0.91      0.91      0.91       657\n",
            "\n"
          ]
        }
      ]
    },
    {
      "cell_type": "code",
      "source": [
        "# the shape of the ROC curve and the AUC value denotes a very good\n",
        "# quality of the classifier\n",
        "RocCurveDisplay.from_estimator(classifier_pipeline, X_test, Y_test)\n",
        "plt.show()"
      ],
      "metadata": {
        "id": "tvG5bfr5eHTQ",
        "colab": {
          "base_uri": "https://localhost:8080/",
          "height": 279
        },
        "outputId": "ad969eaf-d1dc-419f-d3ec-df004c603120"
      },
      "execution_count": 24,
      "outputs": [
        {
          "output_type": "display_data",
          "data": {
            "text/plain": [
              "<Figure size 432x288 with 1 Axes>"
            ],
            "image/png": "[encoded data removed]"
          },
          "metadata": {
            "needs_background": "light"
          }
        }
      ]
    },
    {
      "cell_type": "markdown",
      "source": [
        "The generated classifier model will be saved for further usage or deployment."
      ],
      "metadata": {
        "id": "lVMM3a51MOIG"
      }
    },
    {
      "cell_type": "code",
      "source": [
        "# save the classifier for further usage\n",
        "SAVED_CLASSIFIER_FILE = \"COVID_fake_news_TFIF_SVC_pipeline.joblib\"\n",
        "_ = dump(classifier_pipeline, SAVED_CLASSIFIER_FILE)"
      ],
      "metadata": {
        "id": "gxu-gq5FKtE8"
      },
      "execution_count": 25,
      "outputs": []
    },
    {
      "cell_type": "markdown",
      "source": [
        "We will also perform a basic test to ensure that the loaded model is consistent with the original model in its predictions."
      ],
      "metadata": {
        "id": "DBAJAV4-thZ3"
      }
    },
    {
      "cell_type": "code",
      "source": [
        "# load the classifer and ensure it behaves\n",
        "# in the same manner as the original one\n",
        "loaded_classifier_pipeline = load(SAVED_CLASSIFIER_FILE)\n",
        "\n",
        "Y_pred_loaded = loaded_classifier_pipeline.predict(X_test)\n",
        "np.testing.assert_array_equal(Y_pred_loaded, Y_pred)\n",
        "\n",
        "print(\"The classifier has been successfuly saved.\")"
      ],
      "metadata": {
        "id": "YqfbZcBBNEhN",
        "colab": {
          "base_uri": "https://localhost:8080/"
        },
        "outputId": "f80da94a-53a3-4bae-d36c-72720c9dfb21"
      },
      "execution_count": 26,
      "outputs": [
        {
          "output_type": "stream",
          "name": "stdout",
          "text": [
            "The classifier has been successfuly saved.\n"
          ]
        }
      ]
    }
  ]
}